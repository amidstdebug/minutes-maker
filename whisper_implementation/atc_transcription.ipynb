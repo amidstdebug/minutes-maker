{
 "cells": [
  {
   "cell_type": "markdown",
   "source": [
    "Performing testing on the different Whisper implementations.\n",
    "\n",
    "1. Whisper - pip/conda package\n",
    "2. Whisper - Huggingface"
   ],
   "metadata": {
    "collapsed": false
   },
   "id": "bd04e6683b8ef04f"
  },
  {
   "cell_type": "markdown",
   "source": [
    "# Whisper - Huggingface\n",
    "\n",
    "After trying all the different implementations, I have decided not to use the Huggingface implementation as it doesn't have the `verbose=True` option , neither does it have the ability to input prompts into the whisper model."
   ],
   "metadata": {
    "collapsed": false
   },
   "id": "71efc1e612122511"
  },
  {
   "cell_type": "code",
   "outputs": [],
   "source": [
    "# Load model directly\n",
    "# import torch\n",
    "# from transformers import AutoProcessor, AutoModelForSpeechSeq2Seq, pipeline\n",
    "\n",
    "# pipe = pipeline(\n",
    "#   \"automatic-speech-recognition\",\n",
    "#   model=\"openai/whisper-tiny\",\n",
    "#   chunk_length_s=60,\n",
    "#   device=torch.device(\"mps\"),\n",
    "# )\n",
    "\n",
    "\n",
    "# Load the pipeline for speech-to-text, specifying the model and its processor\n",
    "# speech_recognition = pipeline(\n",
    "# \t\"automatic-speech-recognition\",\n",
    "# \tmodel=\"jlvdoorn/whisper-large-v3-atco2-asr-atcosim\",\n",
    "# \tdevice=torch.device('mps'))\n",
    "\n",
    "\n",
    "# speech_recognition = pipeline(\n",
    "# \t\"automatic-speech-recognition\",\n",
    "# \tmodel=\"openai/whisper-tiny\",\n",
    "# \treturn_timestamps=True,\n",
    "# \tdevice=torch.device('mps'))\n",
    "#\n",
    "# # Example usage (assuming you have an audio file)\n",
    "# results = speech_recognition(\"atc_train.mp3\")['text']\n",
    "# print(results)\n",
    "\n"
   ],
   "metadata": {
    "collapsed": false,
    "ExecuteTime": {
     "end_time": "2024-03-12T15:34:27.311496Z",
     "start_time": "2024-03-12T15:34:27.309281Z"
    }
   },
   "id": "339bea7091c1a5d",
   "execution_count": 2
  },
  {
   "cell_type": "markdown",
   "source": [
    "# Whisper - pip/conda package\n",
    "\n",
    "By using just the pip/conda package, I can use the `verbose=True` option and also input prompts into the whisper model.\n",
    "\n",
    "That being said, attempting to run Whisper pip on Apple silicon is a real pain. From my testing, I run into the \n",
    "``` shell\n",
    "Could not run 'aten::empty.memory_format' with arguments from the 'SparseMPS' backend. \n",
    "```\n",
    "issue. This is a known issue with the MPS backend on Apple silicon. \n",
    "\n",
    "That being said, there have been online discussion on replicating the Whisper pip functionality on Huggingface. i.e. replicating the `snippets` functionality\n",
    "``` python\n",
    "from transformers import WhisperProcessor, WhisperForConditionalGeneration\n",
    "from datasets import load_dataset, Audio\n",
    "\n",
    "model = WhisperForConditionalGeneration.from_pretrained(\"openai/whisper-tiny.en\", low_cpu_mem_usage=True)\n",
    "processor = WhisperProcessor.from_pretrained(\"openai/whisper-tiny.en\")\n",
    "\n",
    "dataset = load_dataset(\"distil-whisper/librispeech_long\", \"clean\", split=\"validation\")\n",
    "dataset = dataset.cast_column(\"audio\", Audio(16_000))\n",
    "\n",
    "sample = next(iter(dataset))\n",
    "inputs = processor(sample[\"audio\"][\"array\"], padding=True, truncation=False, return_attention_mask=True, return_tensors=\"pt\")\n",
    "\n",
    "outputs = model.generate(**inputs, return_segments=True)\n",
    "\n",
    "print(outputs)\n",
    "```\n",
    "\n",
    "But this is not a priority for me at the moment. I will be using the pip/conda package for now."
   ],
   "metadata": {
    "collapsed": false
   },
   "id": "362340d18e8e3aa2"
  },
  {
   "cell_type": "code",
   "outputs": [
    {
     "name": "stdout",
     "output_type": "stream",
     "text": [
      "Requirement already satisfied: openai-whisper in /opt/miniconda3/envs/minutes_gpt/lib/python3.10/site-packages (20231117)\r\n",
      "Requirement already satisfied: numba in /Users/justin/.local/lib/python3.10/site-packages (from openai-whisper) (0.59.0)\r\n",
      "Requirement already satisfied: numpy in /Users/justin/.local/lib/python3.10/site-packages (from openai-whisper) (1.26.4)\r\n",
      "Requirement already satisfied: torch in /Users/justin/.local/lib/python3.10/site-packages (from openai-whisper) (2.2.1)\r\n",
      "Requirement already satisfied: tqdm in /Users/justin/.local/lib/python3.10/site-packages (from openai-whisper) (4.66.2)\r\n",
      "Requirement already satisfied: more-itertools in /opt/miniconda3/envs/minutes_gpt/lib/python3.10/site-packages (from openai-whisper) (10.2.0)\r\n",
      "Requirement already satisfied: tiktoken in /opt/miniconda3/envs/minutes_gpt/lib/python3.10/site-packages (from openai-whisper) (0.6.0)\r\n",
      "Requirement already satisfied: llvmlite<0.43,>=0.42.0dev0 in /Users/justin/.local/lib/python3.10/site-packages (from numba->openai-whisper) (0.42.0)\r\n",
      "Requirement already satisfied: regex>=2022.1.18 in /Users/justin/.local/lib/python3.10/site-packages (from tiktoken->openai-whisper) (2023.12.25)\r\n",
      "Requirement already satisfied: requests>=2.26.0 in /opt/miniconda3/envs/minutes_gpt/lib/python3.10/site-packages (from tiktoken->openai-whisper) (2.31.0)\r\n",
      "Requirement already satisfied: filelock in /Users/justin/.local/lib/python3.10/site-packages (from torch->openai-whisper) (3.13.1)\r\n",
      "Requirement already satisfied: typing-extensions>=4.8.0 in /opt/miniconda3/envs/minutes_gpt/lib/python3.10/site-packages (from torch->openai-whisper) (4.10.0)\r\n",
      "Requirement already satisfied: sympy in /Users/justin/.local/lib/python3.10/site-packages (from torch->openai-whisper) (1.12)\r\n",
      "Requirement already satisfied: networkx in /Users/justin/.local/lib/python3.10/site-packages (from torch->openai-whisper) (3.2.1)\r\n",
      "Requirement already satisfied: jinja2 in /opt/miniconda3/envs/minutes_gpt/lib/python3.10/site-packages (from torch->openai-whisper) (3.1.3)\r\n",
      "Requirement already satisfied: fsspec in /Users/justin/.local/lib/python3.10/site-packages (from torch->openai-whisper) (2023.10.0)\r\n",
      "Requirement already satisfied: charset-normalizer<4,>=2 in /opt/miniconda3/envs/minutes_gpt/lib/python3.10/site-packages (from requests>=2.26.0->tiktoken->openai-whisper) (3.3.2)\r\n",
      "Requirement already satisfied: idna<4,>=2.5 in /opt/miniconda3/envs/minutes_gpt/lib/python3.10/site-packages (from requests>=2.26.0->tiktoken->openai-whisper) (3.6)\r\n",
      "Requirement already satisfied: urllib3<3,>=1.21.1 in /opt/miniconda3/envs/minutes_gpt/lib/python3.10/site-packages (from requests>=2.26.0->tiktoken->openai-whisper) (2.2.1)\r\n",
      "Requirement already satisfied: certifi>=2017.4.17 in /opt/miniconda3/envs/minutes_gpt/lib/python3.10/site-packages (from requests>=2.26.0->tiktoken->openai-whisper) (2024.2.2)\r\n",
      "Requirement already satisfied: MarkupSafe>=2.0 in /opt/miniconda3/envs/minutes_gpt/lib/python3.10/site-packages (from jinja2->torch->openai-whisper) (2.1.5)\r\n",
      "Requirement already satisfied: mpmath>=0.19 in /Users/justin/.local/lib/python3.10/site-packages (from sympy->torch->openai-whisper) (1.3.0)\r\n"
     ]
    }
   ],
   "source": [
    "import torch.backends.mps\n",
    "!pip install openai-whisper"
   ],
   "metadata": {
    "collapsed": false,
    "ExecuteTime": {
     "end_time": "2024-03-12T15:34:29.541155Z",
     "start_time": "2024-03-12T15:34:27.344270Z"
    }
   },
   "id": "75e9781844da5fb4",
   "execution_count": 3
  },
  {
   "cell_type": "code",
   "execution_count": 4,
   "id": "initial_id",
   "metadata": {
    "collapsed": true,
    "ExecuteTime": {
     "end_time": "2024-03-12T15:34:43.233279Z",
     "start_time": "2024-03-12T15:34:29.542626Z"
    }
   },
   "outputs": [],
   "source": [
    "# Load the model and the processor\n",
    "import whisper\n",
    "import torch\n",
    "model = whisper.load_model(\"large-v3\")\n",
    "\n",
    "\n",
    "# device = torch.device(\"mps\" if torch.backends.mps.is_available() else \"cpu\")\n",
    "# model.to(device)\n",
    "# print(f\"Model loaded on {device}\")"
   ]
  },
  {
   "cell_type": "markdown",
   "source": [
    "## ATC-Specific Prompts/Phrases\n",
    "\n",
    "To be honest, the implementation of the Whisper model itself is not really difficult. It's more so the data prep for the whisper model (to essentially zero-shot tune the model) that is the most time consuming part. \n"
   ],
   "metadata": {
    "collapsed": false
   },
   "id": "4223a3dbbc001e31"
  },
  {
   "cell_type": "code",
   "outputs": [],
   "source": [
    "general = ['Air Traffic Control communications']\n",
    "nato = [\n",
    "\t'Alpha', 'Bravo', 'Charlie', 'Delta', 'Echo', 'Foxtrot', 'Golf',\n",
    "\t'Hotel', 'India', 'Juliett', 'Kilo', 'Lima', 'Mike', 'November',\n",
    "\t'Oscar', 'Papa', 'Quebec', 'Romeo', 'Sierra', 'Tango', 'Uniform',\n",
    "\t'Victor', 'Whiskey', 'Xray', 'Yankee', 'Zulu'\n",
    "]\n",
    "atc_common_words = [\n",
    "    \"acknowledge\", \"affirmative\", \"altitude\", \"approach\", \"apron\", \"arrival\",\n",
    "    \"bandbox\", \"base\", \"bearing\", \"cleared\", \"climb\", \"contact\", \"control\",\n",
    "    \"crosswind\", \"cruise\", \"descend\", \"departure\", \"direct\", \"disregard\",\n",
    "    \"downwind\", \"estimate\", \"final\", \"flight\", \"frequency\", \"go around\",\n",
    "    \"heading\", \"hold\", \"identified\", \"immediate\", \"information\", \"instruct\",\n",
    "    \"intentions\", \"land\", \"level\", \"maintain\", \"mayday\", \"message\", \"missed\",\n",
    "    \"navigation\", \"negative\", \"obstruction\", \"option\", \"orbit\", \"pan-pan\",\n",
    "    \"pattern\", \"position\", \"proceed\", \"radar\", \"readback\", \"received\",\n",
    "    \"report\", \"request\", \"required\", \"runway\", \"squawk\", \"standby\", \"takeoff\",\n",
    "    \"taxi\", \"threshold\", \"traffic\", \"transit\", \"turn\", \"vector\", \"visual\",\n",
    "    \"waypoint\", \"weather\", \"wilco\", \"wind\", \"with you\", \"speed\",\n",
    "    \"heavy\", \"light\", \"medium\", \"emergency\", \"fuel\", \"identifier\",\n",
    "    \"limit\", \"monitor\", \"notice\", \"operation\", \"permission\", \"relief\",\n",
    "    \"route\", \"signal\", \"stand\", \"system\", \"terminal\", \"test\", \"track\",\n",
    "    \"understand\", \"verify\", \"vertical\", \"warning\", \"zone\", \"no\", \"yes\", \"unable\",\n",
    "    \"clearance\", \"conflict\", \"coordination\", \"cumulonimbus\", \"deviation\", \"enroute\",\n",
    "    \"fix\", \"glideslope\", \"handoff\", \"holding\", \"IFR\", \"jetstream\", \"knots\",\n",
    "    \"localizer\", \"METAR\", \"NOTAM\", \"overfly\", \"pilot\", \"QNH\", \"radial\",\n",
    "    \"sector\", \"SID\", \"STAR\", \"tailwind\", \"transition\", \"turbulence\", \"uncontrolled\",\n",
    "    \"VFR\", \"wake turbulence\", \"X-wind\", \"yaw\", \"Zulu time\", \"airspace\",\n",
    "    \"briefing\", \"checkpoint\", \"departure\", \"elevation\", \"FL (flight level)\",\n",
    "    \"ground control\", \"hazard\", \"ILS\", \"jetway\", \"kilo\", \"logbook\", \"missed approach\",\n",
    "    \"nautical mile\", \"offset\", \"profile\", \"quadrant\", \"RVR (Runway Visual Range)\",\n",
    "    \"static\", \"touchdown\", \"upwind\", \"variable\", \"wingtip\", \"Yankee\", \"zoom climb\",\n",
    "    \"altitude restriction\", \"airspeed\", \"backtrack\", \"Cleared for the Option\", \"deadhead\", \n",
    "    \"ETOPS (Extended Operations)\", \"final approach fix\", \"gate\", \"holding pattern\", \n",
    "    \"instrument approach\", \"jumpseat\", \"minimums\", \"NOTAM (Notice to Airmen)\", \"pushback\", \n",
    "    \"RNAV (Area Navigation)\", \"slot time\", \"taxiway\", \"TCAS (Traffic Collision Avoidance System)\",\n",
    "    \"visual approach\", \"wind shear\", \"zero fuel weight\", \"accelerate-stop distance available\",\n",
    "    \"barometric pressure\", \"clearance delivery\", \"departure frequency\", \"ETA (Estimated Time of Arrival)\",\n",
    "    \"flight deck\", \"ground proximity warning system\", \"handoff\", \"IFR clearance\", \"jet route\",\n",
    "    \"knots\", \"landing clearance\", \"Mach number\", \"NDB (Non-Directional Beacon)\", \"obstacle clearance\",\n",
    "    \"PAPI (Precision Approach Path Indicator)\", \"QFE (Field Elevation Pressure)\", \"radar contact\",\n",
    "]\n",
    "\n",
    "\n",
    "combined_phrases = [\n",
    "    'ATC', 'Pilot', 'Call sign', 'Altitude', 'Heading', 'Speed', 'Climb to', 'Descend to',\n",
    "    'Maintain', 'Approach', 'Tower', 'Ground', 'Runway', 'Taxi', 'Takeoff', 'Landing',\n",
    "    'Flight level', 'Squawk', 'Radar contact', 'Traffic', 'Hold short', 'Cleared for',\n",
    "    'Go around', 'Read back', 'Roger', 'Wilco', 'Affirmative', 'Negative', 'Standby',\n",
    "    'Mayday', 'Pan-pan', 'Flight plan', 'Visibility', 'Weather', 'Wind', 'Gusts',\n",
    "    'Turbulence', 'Icing conditions', 'Deicing', 'Instrument Landing System (ILS)',\n",
    "    'Visual Flight Rules (VFR)', 'Instrument Flight Rules (IFR)', 'No-fly zone',\n",
    "    'Restricted airspace', 'Flight path', 'Direct route', 'Vector', 'Frequency change',\n",
    "    'Handoff', 'Final approach', 'Initial climb to', 'Contact approach', 'Squawk ident',\n",
    "    'Flight information region (FIR)', 'Control zone', 'Terminal control area (TMA)',\n",
    "    'Standard instrument departure (SID)', 'Standard terminal arrival route (STAR)',\n",
    "    'Missed approach', 'Holding pattern', 'Minimum safe altitude', 'Transponder',\n",
    "    'Traffic alert and collision avoidance system (TCAS)', 'Reduce speed to', 'Increase speed to',\n",
    "    'Flight conditions', 'Clear of conflict', 'Resume own navigation', 'Request altitude change',\n",
    "    'Request route change', 'Flight visibility', 'Ceiling', 'Severe weather', 'Convective SIGMET',\n",
    "    'AIRMET', 'NOTAM', 'QNH', 'QFE', 'Transition altitude', 'Transition level',\n",
    "    'No significant change (NOSIG)', 'Temporary flight restriction (TFR)', 'Special use airspace',\n",
    "    'Military operation area (MOA)', 'Instrument approach procedure (IAP)', 'Visual approach',\n",
    "    'Non-directional beacon (NDB)', 'VHF omnidirectional range (VOR)',\n",
    "    'Automatic terminal information service (ATIS)', 'Pushback', 'Engine start clearance',\n",
    "    'Line up and wait', 'Unicom', 'Cross runway', 'Backtrack', 'Departure frequency',\n",
    "    'Arrival frequency', 'Go-ahead', 'Hold position', 'Check gear down',\n",
    "    'Clearance delivery', 'Touch and go', 'Circuit pattern', 'Altitude restriction', 'Climb via SID',\n",
    "    'Descend via STAR', 'Speed restriction', 'Flight following', 'Radar service terminated', 'Squawk VFR',\n",
    "    'Change to advisory frequency', 'Report passing altitude', 'Report position', 'Estimated time of arrival (ETA)',\n",
    "    'Actual time of departure (ATD)', 'Block altitude', 'Cruise climb', 'Direct to', 'Execute missed approach',\n",
    "    'Flight deck', 'Ground proximity warning system (GPWS)', 'In-flight refueling', 'Joining instructions',\n",
    "    'Lost communications', 'Minimum en route altitude (MEA)', 'Next waypoint', 'Obstacle clearance height (OCH)',\n",
    "    'Procedure turn', 'Radar vectoring', 'Radio failure', 'Short final', 'Standard rate turn',\n",
    "    'Terminal radar service area (TRSA)', 'Undershoot', 'Visual meteorological conditions (VMC)',\n",
    "    'Wide-body aircraft', 'Yaw damper', 'Zulu time conversion', 'Area navigation (RNAV)',\n",
    "    'Required navigation performance (RNP)', 'Barometric pressure', 'Control tower handover', 'Datalink communication',\n",
    "    'Emergency locator transmitter (ELT)', 'Flight data recorder (FDR)', 'Ground control intercept (GCI)',\n",
    "    'Hydraulic failure', 'Instrument meteorological conditions (IMC)', 'Jet route', 'Knock-it-off (emergency cease operations)',\n",
    "    'Low visibility operations (LVO)', 'Missed approach point (MAP)', 'Navigation aids (NAVAIDS)',\n",
    "    'Oxygen mask deployment', 'Precision approach radar (PAR)', 'Quick reaction alert (QRA)',\n",
    "    'Runway incursion', 'Search and rescue (SAR)', 'Tail strike', 'Upwind leg', 'Vertical speed',\n",
    "    'Wake turbulence category', 'X-ray cockpit security', 'Yield to incoming aircraft', 'Zero visibility takeoff'\n",
    "]\n"
   ],
   "metadata": {
    "collapsed": false,
    "ExecuteTime": {
     "end_time": "2024-03-12T15:34:43.254195Z",
     "start_time": "2024-03-12T15:34:43.238612Z"
    }
   },
   "id": "e729df5dcf462f9a",
   "execution_count": 5
  },
  {
   "cell_type": "markdown",
   "source": [
    "## Transcribing the ATC audio"
   ],
   "metadata": {
    "collapsed": false
   },
   "id": "64c7b9ccc5c471f3"
  },
  {
   "cell_type": "code",
   "outputs": [
    {
     "name": "stderr",
     "output_type": "stream",
     "text": [
      "/opt/miniconda3/envs/minutes_gpt/lib/python3.10/site-packages/whisper/transcribe.py:115: UserWarning: FP16 is not supported on CPU; using FP32 instead\n",
      "  warnings.warn(\"FP16 is not supported on CPU; using FP32 instead\")\n"
     ]
    },
    {
     "name": "stdout",
     "output_type": "stream",
     "text": [
      "[00:00.000 --> 00:01.500]  What taxiway the letter?\n",
      "[00:01.500 --> 00:04.000]  Oh, negative sir, we're on 22R holding short of Fox, sir.\n",
      "[00:04.000 --> 00:06.000]  What taxiway do you enter the ramp?\n",
      "[00:06.000 --> 00:10.000]  Okay, sir, we just exit the runway and we're holding short of Fox, short on 22R.\n",
      "[00:10.000 --> 00:13.500]  You're not listening to what I'm asking you. What taxiway do you enter the ramp?\n",
      "[00:13.500 --> 00:15.000]  Not on the ramp yet, sir.\n",
      "[00:15.000 --> 00:18.000]  What taxiway do you enter the ramp? Tell me. What letter?\n",
      "[00:18.000 --> 00:22.000]  Okay, we can enter at Kilo for 52R.\n",
      "[00:22.000 --> 00:25.000]  That's what I need to get out of you. We talked like six times.\n",
      "[00:25.000 --> 00:27.000]  Straight ahead and hold short of hotel, sir.\n",
      "[00:27.000 --> 00:30.000]  Straight ahead and hold short of hotel, sir.\n",
      "[00:30.000 --> 00:33.000]  Follow the Asiana and next time I would like you to be polite with me.\n",
      "[00:33.000 --> 00:37.000]  Okay, but if I gotta talk to you six times, I got other people I gotta talk to.\n",
      "[00:37.000 --> 00:39.000]  And you don't understand what I'm saying.\n",
      "[00:39.000 --> 00:42.000]  What I'm saying, polite with me, alright?\n",
      "[00:42.000 --> 00:43.000]  You want polite with me?\n",
      "[00:43.000 --> 00:44.000]  I'll make a report.\n",
      "[00:44.000 --> 00:45.000]  Go ahead.\n",
      "[00:45.000 --> 00:47.000]  29, we're trying to clear a Wabbit on the runway.\n",
      "[00:47.000 --> 00:49.000]  Roger, we're holding short of top of the 29.\n",
      "[00:49.000 --> 00:50.000]  Crazy Wabbit.\n",
      "[00:50.000 --> 00:54.000]  You know, I've seen stranger things, so it might have happened.\n",
      "[00:54.000 --> 00:57.000]  And you know, we just asked Continental, who was the last airplane to land,\n",
      "[00:57.000 --> 00:58.000]  if he saw it and he did not.\n",
      "[00:58.000 --> 01:02.000]  So it might have dissipated on its own accord.\n",
      "[01:02.000 --> 01:05.000]  That was 599, runway 29 cleared for takeoff.\n",
      "[01:05.000 --> 01:09.000]  And that was 599, cleared for takeoff, runway 29.\n",
      "[01:09.000 --> 01:11.000]  Thanks, Hill.\n",
      "[01:13.000 --> 01:15.000]  I feel like an idiot for maintaining the visual with the boat.\n",
      "[01:15.000 --> 01:17.000]  You're still clear to land, 3 o'clock.\n",
      "[01:17.000 --> 01:20.000]  Affirmative, C-Miles, 4247.\n",
      "[01:20.000 --> 01:23.000]  Affirmative that I'm an idiot or that you're gonna maintain the visual?\n",
      "[01:23.000 --> 01:25.000]  No comment.\n",
      "[01:25.000 --> 01:27.000]  Maintain the visual, C-Miles, 4247.\n",
      "[01:27.000 --> 01:30.000]  Yeah, my wife would have jumped on the first one, thanks.\n",
      "[01:30.000 --> 01:34.000]  Eagle 5, 818, contact departure, I've got all these down.\n",
      "[01:34.000 --> 01:35.000]  Same, baby.\n",
      "[01:35.000 --> 01:37.000]  Hey.\n",
      "[01:37.000 --> 01:40.000]  555, contact departure, Mokai got it.\n",
      "[01:40.000 --> 01:43.000]  And what is it, do you know?\n",
      "[01:43.000 --> 01:47.000]  No, I really don't know. It looks like a really big rat, but it might be some male.\n",
      "[01:47.000 --> 01:49.000]  That's a New York rat.\n",
      "[01:49.000 --> 01:50.000]  Well, that's for sure.\n",
      "[01:50.000 --> 01:52.000]  First class meal.\n",
      "[01:52.000 --> 01:53.000]  Call catering.\n",
      "[01:53.000 --> 01:56.000]  789, in which direction would you like us to take?\n",
      "[01:56.000 --> 02:01.000]  Oh, you better face the front, sir, because if you're looking at the passengers and trying to fly, they get scared.\n",
      "[02:01.000 --> 02:02.000]  That's a good point.\n",
      "[02:02.000 --> 02:12.000]  Cactus 532, H-Het-er, Cactus 532, Kennedy Fair, runway 31L at Kilo Kilo, position and hold, hold at a-flash, traffic departing runway 22R.\n",
      "[02:12.000 --> 02:17.000]  Okay, position and hold, 31L at Kilo Kilo, Cactus 532.\n",
      "[02:17.000 --> 02:19.000]  Oh, dang.\n",
      "[02:19.000 --> 02:20.000]  Oh.\n",
      "[02:20.000 --> 02:22.000]  Oh, button's jammed.\n",
      "[02:22.000 --> 02:23.000]  Oh, that's the money.\n",
      "[02:23.000 --> 02:25.000]  Oh, Jesus.\n",
      "[02:25.000 --> 02:28.000]  The button's gone, guys.\n",
      "[02:28.000 --> 02:31.000]  Copy that, X-Ray Golf Filter.\n",
      "[02:31.000 --> 02:35.000]  789-48, continue up to flight level 330.\n",
      "[02:35.000 --> 02:36.000]  330.\n",
      "[02:36.000 --> 02:41.000]  New York Tower, hello, this is Eagle Flight 4404, we are the visual, 13L.\n",
      "[02:41.000 --> 02:45.000]  4404, again, afternoon, your number one, clear the land on 13L.\n",
      "[02:45.000 --> 02:48.000]  Clear the land on 13L, Eagle Flight 4404.\n",
      "[02:48.000 --> 02:51.000]  Position and hold, C-C-R, coming in fourth.\n",
      "[02:51.000 --> 02:54.000]  It's the bottom of a super, look like.\n",
      "[02:54.000 --> 02:55.000]  Big.\n",
      "[02:55.000 --> 02:56.000]  Lot of wheels.\n",
      "[02:56.000 --> 02:58.000]  There you go.\n",
      "[02:58.000 --> 03:00.000]  Highway 21P, number two, Vanya, you're a therapist.\n",
      "[03:01.000 --> 03:03.000]  Sorry, 737, my bad.\n",
      "[03:03.000 --> 03:04.000]  Not a wreck.\n",
      "[03:04.000 --> 03:07.000]  I'm used to you guys flying airbuses all the time.\n",
      "[03:07.000 --> 03:09.000]  Hey, not us.\n",
      "[03:09.000 --> 03:12.000]  Yeah, every now and then, you guys are a 737.\n",
      "[03:12.000 --> 03:14.000]  Hey, we fly real airplanes.\n",
      "[03:14.000 --> 03:16.000]  That was Delta, say that again, please.\n",
      "[03:16.000 --> 03:20.000]  Delta, 2991, you said you're 11 out for Palm Beach?\n",
      "[03:20.000 --> 03:22.000]  I apologize, was on Lardell.\n",
      "[03:22.000 --> 03:25.000]  Okay, yeah, wrong frequency.\n",
      "[03:25.000 --> 03:28.000]  2945, we got somebody standing up in the plane.\n",
      "[03:28.000 --> 03:30.000]  Are you going to be able to go in the next, like, 30 seconds?\n",
      "[03:31.000 --> 03:33.000]  2945, we need to stay on the runway.\n",
      "[03:33.000 --> 03:34.000]  We got somebody in the restroom.\n",
      "[03:34.000 --> 03:35.000]  We don't know when they're going to come out.\n",
      "[03:35.000 --> 03:36.000]  Stand by.\n",
      "[03:36.000 --> 03:40.000]  Red Lake 668, go around, fly runway heading, maintain 1,500.\n",
      "[03:40.000 --> 03:46.000]  Beaver 179 heavy, no delay, cross 4L, right Bravo, monitor ground 0.9, good night.\n",
      "[03:46.000 --> 03:50.000]  Okay, no delay, cross 4L, run on Bravo, 0.9, bye.\n",
      "[03:50.000 --> 03:52.000]  You going back out tonight?\n",
      "[03:52.000 --> 03:54.000]  Let's see.\n",
      "[03:54.000 --> 03:57.000]  Well, if you do, we'll give you a free get-out jail-free pass.\n",
      "[03:57.000 --> 03:59.000]  We'll send you straight to the front.\n",
      "[03:59.000 --> 04:00.000]  Oh, that's fine.\n",
      "[04:00.000 --> 04:05.000]  And I need your credit card and expiration date, along with that.\n",
      "[04:05.000 --> 04:06.000]  Okay.\n",
      "[04:06.000 --> 04:10.000]  Yeah, sure.\n",
      "[04:10.000 --> 04:16.000]  Just 7-8-4-4, do you read?\n",
      "[04:16.000 --> 04:25.000]  You stupid , we're,phase 77-79, clear to 11,000.\n",
      "[04:25.000 --> 04:26.000]  Okay, what the hell is going on here?\n",
      "[04:26.000 --> 04:27.000]  God damn it.\n",
      "[04:27.000 --> 04:28.000]  Guan meow?\n",
      "[04:28.000 --> 04:29.000]  We cleared to 1,000.\n",
      "[04:29.000 --> 04:31.000]  7-7-79, clicker 11-1000.\n",
      "[04:35.900 --> 04:37.960]  And departure, Chas 7844, do you read?\n",
      "[04:39.480 --> 04:42.260]  Chas 7844, 123-321, how do you read me?\n",
      "[04:43.360 --> 04:46.340]  We've got you 3-by-3, but there's an open mic on the frequency.\n",
      "[04:47.220 --> 04:50.940]  3-by-63-23 on the breezy point, over to departure, happy turkey day.\n",
      "[04:51.440 --> 04:52.160]  You do the same, sir.\n",
      "[04:52.880 --> 04:54.820]  Breezy point, climb over departure, gobble, gobble, gobble.\n",
      "[04:55.320 --> 04:56.840]  Hope you have a good holiday, see you.\n",
      "[04:56.840 --> 04:59.120]  Departure, we'll see you all next time.\n",
      "[05:00.000 --> 05:06.420]  Hello, departure, it is Chautauqua 7767 bounding with excitement out of 2900 for 5000 runway heading.\n",
      "[05:06.820 --> 05:08.780]  14,000, 7767.\n",
      "[05:09.120 --> 05:10.960]  1985, have a blast.\n",
      "[05:11.720 --> 05:13.180]  Chautauqua, Chautauqua 7767, where are you going?\n",
      "[05:13.520 --> 05:14.220]  Charlie 9.\n",
      "[05:15.160 --> 05:16.140]  Hey, it's back there.\n",
      "[05:17.220 --> 05:19.500]  You need to make a 180, you passed it all.\n",
      "[05:19.860 --> 05:20.600]  What are they moving?\n",
      "[05:21.340 --> 05:25.060]  They didn't, they, uh, Chautauqua used to park up on the north side there,\n",
      "[05:25.060 --> 05:26.720]  but then now they all park down here.\n",
      "[05:26.840 --> 05:28.380]  Uh, just, uh, depending on the mic.\n",
      "[05:28.760 --> 05:30.600]  Yeah, 100 tough box, this is a bound landing, sir.\n",
      "[05:30.600 --> 05:33.020]  Do you want us to go, uh, Baisley, triple hangars?\n",
      "[05:34.280 --> 05:35.420]  100 tough box truck.\n",
      "[05:35.820 --> 05:36.320]  Okay.\n",
      "[05:36.600 --> 05:39.900]  Received via the Baisley route, and pulse shuttle 13 left for triple hangars.\n",
      "[05:39.900 --> 05:41.940]  Traffic behind you and down the land on 13 left.\n",
      "[05:42.640 --> 05:45.440]  All right, Roger, we could come in and appreciate the parallels if that's easier for you.\n",
      "[05:46.240 --> 05:47.900]  If it was easier, I would have given it to you.\n",
      "[05:48.600 --> 05:50.180]  All right, we're just trying to figure out what you want.\n",
      "[05:51.720 --> 05:53.000]  Actually, you know what, I made a mistake.\n",
      "[05:53.300 --> 05:54.660]  Your sequence is on Juliet.\n",
      "[05:54.740 --> 05:56.220]  It's a Challenger, right on Juliet.\n",
      "[05:56.220 --> 05:56.820]  Just get behind him.\n",
      "[05:56.840 --> 06:02.080]  Get behind him in, uh, 23, uh, 9, and that Airbus will still follow you from the left on Zulu.\n",
      "[06:02.700 --> 06:06.540]  Yeah, if you don't tell us to give way, uh, technically we can go ahead and hit him, right?\n",
      "[06:07.260 --> 06:07.560]  Right.\n",
      "[06:08.140 --> 06:08.760]  That does so.\n"
     ]
    }
   ],
   "source": [
    "# collate all the phrases\n",
    "\n",
    "collated_list = general + nato + atc_common_words + combined_phrases\n",
    "\n",
    "collated_list_string = ' '.join(collated_list)\n",
    "\n",
    "# calling this will actually result in the model.transcribe returning the transcribed text + timestamps into the cell output itself.\n",
    "result = model.transcribe(\"./content/atc_train.mp3\", verbose=True, language=\"en\", prompt=collated_list_string)\n",
    "\n",
    "\n",
    "# print(result[\"text\"])\n"
   ],
   "metadata": {
    "collapsed": false,
    "ExecuteTime": {
     "end_time": "2024-03-12T15:47:03.394269Z",
     "start_time": "2024-03-12T15:34:43.257870Z"
    }
   },
   "id": "fd84eca450edba6",
   "execution_count": 6
  },
  {
   "cell_type": "code",
   "outputs": [
    {
     "data": {
      "text/plain": "{'text': \" What taxiway the letter? Oh, negative sir, we're on 22R holding short of Fox, sir. What taxiway do you enter the ramp? Okay, sir, we just exit the runway and we're holding short of Fox, short on 22R. You're not listening to what I'm asking you. What taxiway do you enter the ramp? Not on the ramp yet, sir. What taxiway do you enter the ramp? Tell me. What letter? Okay, we can enter at Kilo for 52R. That's what I need to get out of you. We talked like six times. Straight ahead and hold short of hotel, sir. Straight ahead and hold short of hotel, sir. Follow the Asiana and next time I would like you to be polite with me. Okay, but if I gotta talk to you six times, I got other people I gotta talk to. And you don't understand what I'm saying. What I'm saying, polite with me, alright? You want polite with me? I'll make a report. Go ahead. 29, we're trying to clear a Wabbit on the runway. Roger, we're holding short of top of the 29. Crazy Wabbit. You know, I've seen stranger things, so it might have happened. And you know, we just asked Continental, who was the last airplane to land, if he saw it and he did not. So it might have dissipated on its own accord. That was 599, runway 29 cleared for takeoff. And that was 599, cleared for takeoff, runway 29. Thanks, Hill. I feel like an idiot for maintaining the visual with the boat. You're still clear to land, 3 o'clock. Affirmative, C-Miles, 4247. Affirmative that I'm an idiot or that you're gonna maintain the visual? No comment. Maintain the visual, C-Miles, 4247. Yeah, my wife would have jumped on the first one, thanks. Eagle 5, 818, contact departure, I've got all these down. Same, baby. Hey. 555, contact departure, Mokai got it. And what is it, do you know? No, I really don't know. It looks like a really big rat, but it might be some male. That's a New York rat. Well, that's for sure. First class meal. Call catering. 789, in which direction would you like us to take? Oh, you better face the front, sir, because if you're looking at the passengers and trying to fly, they get scared. That's a good point. Cactus 532, H-Het-er, Cactus 532, Kennedy Fair, runway 31L at Kilo Kilo, position and hold, hold at a-flash, traffic departing runway 22R. Okay, position and hold, 31L at Kilo Kilo, Cactus 532. Oh, dang. Oh. Oh, button's jammed. Oh, that's the money. Oh, Jesus. The button's gone, guys. Copy that, X-Ray Golf Filter. 789-48, continue up to flight level 330. 330. New York Tower, hello, this is Eagle Flight 4404, we are the visual, 13L. 4404, again, afternoon, your number one, clear the land on 13L. Clear the land on 13L, Eagle Flight 4404. Position and hold, C-C-R, coming in fourth. It's the bottom of a super, look like. Big. Lot of wheels. There you go. Highway 21P, number two, Vanya, you're a therapist. Sorry, 737, my bad. Not a wreck. I'm used to you guys flying airbuses all the time. Hey, not us. Yeah, every now and then, you guys are a 737. Hey, we fly real airplanes. That was Delta, say that again, please. Delta, 2991, you said you're 11 out for Palm Beach? I apologize, was on Lardell. Okay, yeah, wrong frequency. 2945, we got somebody standing up in the plane. Are you going to be able to go in the next, like, 30 seconds? 2945, we need to stay on the runway. We got somebody in the restroom. We don't know when they're going to come out. Stand by. Red Lake 668, go around, fly runway heading, maintain 1,500. Beaver 179 heavy, no delay, cross 4L, right Bravo, monitor ground 0.9, good night. Okay, no delay, cross 4L, run on Bravo, 0.9, bye. You going back out tonight? Let's see. Well, if you do, we'll give you a free get-out jail-free pass. We'll send you straight to the front. Oh, that's fine. And I need your credit card and expiration date, along with that. Okay. Yeah, sure. Just 7-8-4-4, do you read? You stupid , we're,phase 77-79, clear to 11,000. Okay, what the hell is going on here? God damn it. Guan meow? We cleared to 1,000. 7-7-79, clicker 11-1000. And departure, Chas 7844, do you read? Chas 7844, 123-321, how do you read me? We've got you 3-by-3, but there's an open mic on the frequency. 3-by-63-23 on the breezy point, over to departure, happy turkey day. You do the same, sir. Breezy point, climb over departure, gobble, gobble, gobble. Hope you have a good holiday, see you. Departure, we'll see you all next time. Hello, departure, it is Chautauqua 7767 bounding with excitement out of 2900 for 5000 runway heading. 14,000, 7767. 1985, have a blast. Chautauqua, Chautauqua 7767, where are you going? Charlie 9. Hey, it's back there. You need to make a 180, you passed it all. What are they moving? They didn't, they, uh, Chautauqua used to park up on the north side there, but then now they all park down here. Uh, just, uh, depending on the mic. Yeah, 100 tough box, this is a bound landing, sir. Do you want us to go, uh, Baisley, triple hangars? 100 tough box truck. Okay. Received via the Baisley route, and pulse shuttle 13 left for triple hangars. Traffic behind you and down the land on 13 left. All right, Roger, we could come in and appreciate the parallels if that's easier for you. If it was easier, I would have given it to you. All right, we're just trying to figure out what you want. Actually, you know what, I made a mistake. Your sequence is on Juliet. It's a Challenger, right on Juliet. Just get behind him. Get behind him in, uh, 23, uh, 9, and that Airbus will still follow you from the left on Zulu. Yeah, if you don't tell us to give way, uh, technically we can go ahead and hit him, right? Right. That does so.\",\n 'segments': [{'id': 0,\n   'seek': 0,\n   'start': 0.0,\n   'end': 1.5,\n   'text': ' What taxiway the letter?',\n   'tokens': [50365, 708, 18984, 676, 264, 5063, 30, 50440],\n   'temperature': 0.0,\n   'avg_logprob': -0.2156691490849362,\n   'compression_ratio': 1.996078431372549,\n   'no_speech_prob': 0.40009522438049316},\n  {'id': 1,\n   'seek': 0,\n   'start': 1.5,\n   'end': 4.0,\n   'text': \" Oh, negative sir, we're on 22R holding short of Fox, sir.\",\n   'tokens': [50440,\n    876,\n    11,\n    3671,\n    4735,\n    11,\n    321,\n    434,\n    322,\n    5853,\n    49,\n    5061,\n    2099,\n    295,\n    11388,\n    11,\n    4735,\n    13,\n    50565],\n   'temperature': 0.0,\n   'avg_logprob': -0.2156691490849362,\n   'compression_ratio': 1.996078431372549,\n   'no_speech_prob': 0.40009522438049316},\n  {'id': 2,\n   'seek': 0,\n   'start': 4.0,\n   'end': 6.0,\n   'text': ' What taxiway do you enter the ramp?',\n   'tokens': [50565, 708, 18984, 676, 360, 291, 3242, 264, 12428, 30, 50665],\n   'temperature': 0.0,\n   'avg_logprob': -0.2156691490849362,\n   'compression_ratio': 1.996078431372549,\n   'no_speech_prob': 0.40009522438049316},\n  {'id': 3,\n   'seek': 0,\n   'start': 6.0,\n   'end': 10.0,\n   'text': \" Okay, sir, we just exit the runway and we're holding short of Fox, short on 22R.\",\n   'tokens': [50665,\n    1033,\n    11,\n    4735,\n    11,\n    321,\n    445,\n    11043,\n    264,\n    26642,\n    293,\n    321,\n    434,\n    5061,\n    2099,\n    295,\n    11388,\n    11,\n    2099,\n    322,\n    5853,\n    49,\n    13,\n    50865],\n   'temperature': 0.0,\n   'avg_logprob': -0.2156691490849362,\n   'compression_ratio': 1.996078431372549,\n   'no_speech_prob': 0.40009522438049316},\n  {'id': 4,\n   'seek': 0,\n   'start': 10.0,\n   'end': 13.5,\n   'text': \" You're not listening to what I'm asking you. What taxiway do you enter the ramp?\",\n   'tokens': [50865,\n    509,\n    434,\n    406,\n    4764,\n    281,\n    437,\n    286,\n    478,\n    3365,\n    291,\n    13,\n    708,\n    18984,\n    676,\n    360,\n    291,\n    3242,\n    264,\n    12428,\n    30,\n    51040],\n   'temperature': 0.0,\n   'avg_logprob': -0.2156691490849362,\n   'compression_ratio': 1.996078431372549,\n   'no_speech_prob': 0.40009522438049316},\n  {'id': 5,\n   'seek': 0,\n   'start': 13.5,\n   'end': 15.0,\n   'text': ' Not on the ramp yet, sir.',\n   'tokens': [51040, 1726, 322, 264, 12428, 1939, 11, 4735, 13, 51115],\n   'temperature': 0.0,\n   'avg_logprob': -0.2156691490849362,\n   'compression_ratio': 1.996078431372549,\n   'no_speech_prob': 0.40009522438049316},\n  {'id': 6,\n   'seek': 0,\n   'start': 15.0,\n   'end': 18.0,\n   'text': ' What taxiway do you enter the ramp? Tell me. What letter?',\n   'tokens': [51115,\n    708,\n    18984,\n    676,\n    360,\n    291,\n    3242,\n    264,\n    12428,\n    30,\n    5115,\n    385,\n    13,\n    708,\n    5063,\n    30,\n    51265],\n   'temperature': 0.0,\n   'avg_logprob': -0.2156691490849362,\n   'compression_ratio': 1.996078431372549,\n   'no_speech_prob': 0.40009522438049316},\n  {'id': 7,\n   'seek': 0,\n   'start': 18.0,\n   'end': 22.0,\n   'text': ' Okay, we can enter at Kilo for 52R.',\n   'tokens': [51265,\n    1033,\n    11,\n    321,\n    393,\n    3242,\n    412,\n    591,\n    10720,\n    337,\n    18079,\n    49,\n    13,\n    51465],\n   'temperature': 0.0,\n   'avg_logprob': -0.2156691490849362,\n   'compression_ratio': 1.996078431372549,\n   'no_speech_prob': 0.40009522438049316},\n  {'id': 8,\n   'seek': 0,\n   'start': 22.0,\n   'end': 25.0,\n   'text': \" That's what I need to get out of you. We talked like six times.\",\n   'tokens': [51465,\n    663,\n    311,\n    437,\n    286,\n    643,\n    281,\n    483,\n    484,\n    295,\n    291,\n    13,\n    492,\n    2825,\n    411,\n    2309,\n    1413,\n    13,\n    51615],\n   'temperature': 0.0,\n   'avg_logprob': -0.2156691490849362,\n   'compression_ratio': 1.996078431372549,\n   'no_speech_prob': 0.40009522438049316},\n  {'id': 9,\n   'seek': 0,\n   'start': 25.0,\n   'end': 27.0,\n   'text': ' Straight ahead and hold short of hotel, sir.',\n   'tokens': [51615,\n    26908,\n    2286,\n    293,\n    1797,\n    2099,\n    295,\n    7622,\n    11,\n    4735,\n    13,\n    51715],\n   'temperature': 0.0,\n   'avg_logprob': -0.2156691490849362,\n   'compression_ratio': 1.996078431372549,\n   'no_speech_prob': 0.40009522438049316},\n  {'id': 10,\n   'seek': 2700,\n   'start': 27.0,\n   'end': 30.0,\n   'text': ' Straight ahead and hold short of hotel, sir.',\n   'tokens': [50365,\n    26908,\n    2286,\n    293,\n    1797,\n    2099,\n    295,\n    7622,\n    11,\n    4735,\n    13,\n    50515],\n   'temperature': 0.0,\n   'avg_logprob': -0.20886371352455832,\n   'compression_ratio': 1.6997084548104957,\n   'no_speech_prob': 0.004462543409317732},\n  {'id': 11,\n   'seek': 2700,\n   'start': 30.0,\n   'end': 33.0,\n   'text': ' Follow the Asiana and next time I would like you to be polite with me.',\n   'tokens': [50515,\n    9876,\n    264,\n    1018,\n    8497,\n    293,\n    958,\n    565,\n    286,\n    576,\n    411,\n    291,\n    281,\n    312,\n    25171,\n    365,\n    385,\n    13,\n    50665],\n   'temperature': 0.0,\n   'avg_logprob': -0.20886371352455832,\n   'compression_ratio': 1.6997084548104957,\n   'no_speech_prob': 0.004462543409317732},\n  {'id': 12,\n   'seek': 2700,\n   'start': 33.0,\n   'end': 37.0,\n   'text': ' Okay, but if I gotta talk to you six times, I got other people I gotta talk to.',\n   'tokens': [50665,\n    1033,\n    11,\n    457,\n    498,\n    286,\n    3428,\n    751,\n    281,\n    291,\n    2309,\n    1413,\n    11,\n    286,\n    658,\n    661,\n    561,\n    286,\n    3428,\n    751,\n    281,\n    13,\n    50865],\n   'temperature': 0.0,\n   'avg_logprob': -0.20886371352455832,\n   'compression_ratio': 1.6997084548104957,\n   'no_speech_prob': 0.004462543409317732},\n  {'id': 13,\n   'seek': 2700,\n   'start': 37.0,\n   'end': 39.0,\n   'text': \" And you don't understand what I'm saying.\",\n   'tokens': [50865, 400, 291, 500, 380, 1223, 437, 286, 478, 1566, 13, 50965],\n   'temperature': 0.0,\n   'avg_logprob': -0.20886371352455832,\n   'compression_ratio': 1.6997084548104957,\n   'no_speech_prob': 0.004462543409317732},\n  {'id': 14,\n   'seek': 2700,\n   'start': 39.0,\n   'end': 42.0,\n   'text': \" What I'm saying, polite with me, alright?\",\n   'tokens': [50965,\n    708,\n    286,\n    478,\n    1566,\n    11,\n    25171,\n    365,\n    385,\n    11,\n    5845,\n    30,\n    51115],\n   'temperature': 0.0,\n   'avg_logprob': -0.20886371352455832,\n   'compression_ratio': 1.6997084548104957,\n   'no_speech_prob': 0.004462543409317732},\n  {'id': 15,\n   'seek': 2700,\n   'start': 42.0,\n   'end': 43.0,\n   'text': ' You want polite with me?',\n   'tokens': [51115, 509, 528, 25171, 365, 385, 30, 51165],\n   'temperature': 0.0,\n   'avg_logprob': -0.20886371352455832,\n   'compression_ratio': 1.6997084548104957,\n   'no_speech_prob': 0.004462543409317732},\n  {'id': 16,\n   'seek': 2700,\n   'start': 43.0,\n   'end': 44.0,\n   'text': \" I'll make a report.\",\n   'tokens': [51165, 286, 603, 652, 257, 2275, 13, 51215],\n   'temperature': 0.0,\n   'avg_logprob': -0.20886371352455832,\n   'compression_ratio': 1.6997084548104957,\n   'no_speech_prob': 0.004462543409317732},\n  {'id': 17,\n   'seek': 2700,\n   'start': 44.0,\n   'end': 45.0,\n   'text': ' Go ahead.',\n   'tokens': [51215, 1037, 2286, 13, 51265],\n   'temperature': 0.0,\n   'avg_logprob': -0.20886371352455832,\n   'compression_ratio': 1.6997084548104957,\n   'no_speech_prob': 0.004462543409317732},\n  {'id': 18,\n   'seek': 2700,\n   'start': 45.0,\n   'end': 47.0,\n   'text': \" 29, we're trying to clear a Wabbit on the runway.\",\n   'tokens': [51265,\n    9413,\n    11,\n    321,\n    434,\n    1382,\n    281,\n    1850,\n    257,\n    343,\n    455,\n    5260,\n    322,\n    264,\n    26642,\n    13,\n    51365],\n   'temperature': 0.0,\n   'avg_logprob': -0.20886371352455832,\n   'compression_ratio': 1.6997084548104957,\n   'no_speech_prob': 0.004462543409317732},\n  {'id': 19,\n   'seek': 2700,\n   'start': 47.0,\n   'end': 49.0,\n   'text': \" Roger, we're holding short of top of the 29.\",\n   'tokens': [51365,\n    17666,\n    11,\n    321,\n    434,\n    5061,\n    2099,\n    295,\n    1192,\n    295,\n    264,\n    9413,\n    13,\n    51465],\n   'temperature': 0.0,\n   'avg_logprob': -0.20886371352455832,\n   'compression_ratio': 1.6997084548104957,\n   'no_speech_prob': 0.004462543409317732},\n  {'id': 20,\n   'seek': 2700,\n   'start': 49.0,\n   'end': 50.0,\n   'text': ' Crazy Wabbit.',\n   'tokens': [51465, 22509, 343, 455, 5260, 13, 51515],\n   'temperature': 0.0,\n   'avg_logprob': -0.20886371352455832,\n   'compression_ratio': 1.6997084548104957,\n   'no_speech_prob': 0.004462543409317732},\n  {'id': 21,\n   'seek': 2700,\n   'start': 50.0,\n   'end': 54.0,\n   'text': \" You know, I've seen stranger things, so it might have happened.\",\n   'tokens': [51515,\n    509,\n    458,\n    11,\n    286,\n    600,\n    1612,\n    18834,\n    721,\n    11,\n    370,\n    309,\n    1062,\n    362,\n    2011,\n    13,\n    51715],\n   'temperature': 0.0,\n   'avg_logprob': -0.20886371352455832,\n   'compression_ratio': 1.6997084548104957,\n   'no_speech_prob': 0.004462543409317732},\n  {'id': 22,\n   'seek': 2700,\n   'start': 54.0,\n   'end': 57.0,\n   'text': ' And you know, we just asked Continental, who was the last airplane to land,',\n   'tokens': [51715,\n    400,\n    291,\n    458,\n    11,\n    321,\n    445,\n    2351,\n    4839,\n    38653,\n    11,\n    567,\n    390,\n    264,\n    1036,\n    17130,\n    281,\n    2117,\n    11,\n    51865],\n   'temperature': 0.0,\n   'avg_logprob': -0.20886371352455832,\n   'compression_ratio': 1.6997084548104957,\n   'no_speech_prob': 0.004462543409317732},\n  {'id': 23,\n   'seek': 5700,\n   'start': 57.0,\n   'end': 58.0,\n   'text': ' if he saw it and he did not.',\n   'tokens': [50365, 498, 415, 1866, 309, 293, 415, 630, 406, 13, 50415],\n   'temperature': 0.0,\n   'avg_logprob': -0.25237237590633027,\n   'compression_ratio': 1.736,\n   'no_speech_prob': 0.0023357667960226536},\n  {'id': 24,\n   'seek': 5700,\n   'start': 58.0,\n   'end': 62.0,\n   'text': ' So it might have dissipated on its own accord.',\n   'tokens': [50415,\n    407,\n    309,\n    1062,\n    362,\n    29544,\n    770,\n    322,\n    1080,\n    1065,\n    18640,\n    13,\n    50615],\n   'temperature': 0.0,\n   'avg_logprob': -0.25237237590633027,\n   'compression_ratio': 1.736,\n   'no_speech_prob': 0.0023357667960226536},\n  {'id': 25,\n   'seek': 5700,\n   'start': 62.0,\n   'end': 65.0,\n   'text': ' That was 599, runway 29 cleared for takeoff.',\n   'tokens': [50615,\n    663,\n    390,\n    1025,\n    8494,\n    11,\n    26642,\n    9413,\n    19725,\n    337,\n    747,\n    4506,\n    13,\n    50765],\n   'temperature': 0.0,\n   'avg_logprob': -0.25237237590633027,\n   'compression_ratio': 1.736,\n   'no_speech_prob': 0.0023357667960226536},\n  {'id': 26,\n   'seek': 5700,\n   'start': 65.0,\n   'end': 69.0,\n   'text': ' And that was 599, cleared for takeoff, runway 29.',\n   'tokens': [50765,\n    400,\n    300,\n    390,\n    1025,\n    8494,\n    11,\n    19725,\n    337,\n    747,\n    4506,\n    11,\n    26642,\n    9413,\n    13,\n    50965],\n   'temperature': 0.0,\n   'avg_logprob': -0.25237237590633027,\n   'compression_ratio': 1.736,\n   'no_speech_prob': 0.0023357667960226536},\n  {'id': 27,\n   'seek': 5700,\n   'start': 69.0,\n   'end': 71.0,\n   'text': ' Thanks, Hill.',\n   'tokens': [50965, 2561, 11, 9109, 13, 51065],\n   'temperature': 0.0,\n   'avg_logprob': -0.25237237590633027,\n   'compression_ratio': 1.736,\n   'no_speech_prob': 0.0023357667960226536},\n  {'id': 28,\n   'seek': 5700,\n   'start': 73.0,\n   'end': 75.0,\n   'text': ' I feel like an idiot for maintaining the visual with the boat.',\n   'tokens': [51165,\n    286,\n    841,\n    411,\n    364,\n    14270,\n    337,\n    14916,\n    264,\n    5056,\n    365,\n    264,\n    6582,\n    13,\n    51265],\n   'temperature': 0.0,\n   'avg_logprob': -0.25237237590633027,\n   'compression_ratio': 1.736,\n   'no_speech_prob': 0.0023357667960226536},\n  {'id': 29,\n   'seek': 5700,\n   'start': 75.0,\n   'end': 77.0,\n   'text': \" You're still clear to land, 3 o'clock.\",\n   'tokens': [51265,\n    509,\n    434,\n    920,\n    1850,\n    281,\n    2117,\n    11,\n    805,\n    277,\n    6,\n    9023,\n    13,\n    51365],\n   'temperature': 0.0,\n   'avg_logprob': -0.25237237590633027,\n   'compression_ratio': 1.736,\n   'no_speech_prob': 0.0023357667960226536},\n  {'id': 30,\n   'seek': 5700,\n   'start': 77.0,\n   'end': 80.0,\n   'text': ' Affirmative, C-Miles, 4247.',\n   'tokens': [51365,\n    12840,\n    3692,\n    1166,\n    11,\n    383,\n    12,\n    44,\n    4680,\n    11,\n    1017,\n    7911,\n    22,\n    13,\n    51515],\n   'temperature': 0.0,\n   'avg_logprob': -0.25237237590633027,\n   'compression_ratio': 1.736,\n   'no_speech_prob': 0.0023357667960226536},\n  {'id': 31,\n   'seek': 5700,\n   'start': 80.0,\n   'end': 83.0,\n   'text': \" Affirmative that I'm an idiot or that you're gonna maintain the visual?\",\n   'tokens': [51515,\n    12840,\n    3692,\n    1166,\n    300,\n    286,\n    478,\n    364,\n    14270,\n    420,\n    300,\n    291,\n    434,\n    799,\n    6909,\n    264,\n    5056,\n    30,\n    51665],\n   'temperature': 0.0,\n   'avg_logprob': -0.25237237590633027,\n   'compression_ratio': 1.736,\n   'no_speech_prob': 0.0023357667960226536},\n  {'id': 32,\n   'seek': 5700,\n   'start': 83.0,\n   'end': 85.0,\n   'text': ' No comment.',\n   'tokens': [51665, 883, 2871, 13, 51765],\n   'temperature': 0.0,\n   'avg_logprob': -0.25237237590633027,\n   'compression_ratio': 1.736,\n   'no_speech_prob': 0.0023357667960226536},\n  {'id': 33,\n   'seek': 5700,\n   'start': 85.0,\n   'end': 87.0,\n   'text': ' Maintain the visual, C-Miles, 4247.',\n   'tokens': [51765,\n    376,\n    5114,\n    491,\n    264,\n    5056,\n    11,\n    383,\n    12,\n    44,\n    4680,\n    11,\n    1017,\n    7911,\n    22,\n    13,\n    51865],\n   'temperature': 0.0,\n   'avg_logprob': -0.25237237590633027,\n   'compression_ratio': 1.736,\n   'no_speech_prob': 0.0023357667960226536},\n  {'id': 34,\n   'seek': 8700,\n   'start': 87.0,\n   'end': 90.0,\n   'text': ' Yeah, my wife would have jumped on the first one, thanks.',\n   'tokens': [50365,\n    865,\n    11,\n    452,\n    3836,\n    576,\n    362,\n    13864,\n    322,\n    264,\n    700,\n    472,\n    11,\n    3231,\n    13,\n    50515],\n   'temperature': 0.0,\n   'avg_logprob': -0.22382801137071975,\n   'compression_ratio': 1.4963768115942029,\n   'no_speech_prob': 0.009605610743165016},\n  {'id': 35,\n   'seek': 8700,\n   'start': 90.0,\n   'end': 94.0,\n   'text': \" Eagle 5, 818, contact departure, I've got all these down.\",\n   'tokens': [50515,\n    27926,\n    1025,\n    11,\n    1649,\n    6494,\n    11,\n    3385,\n    25866,\n    11,\n    286,\n    600,\n    658,\n    439,\n    613,\n    760,\n    13,\n    50715],\n   'temperature': 0.0,\n   'avg_logprob': -0.22382801137071975,\n   'compression_ratio': 1.4963768115942029,\n   'no_speech_prob': 0.009605610743165016},\n  {'id': 36,\n   'seek': 8700,\n   'start': 94.0,\n   'end': 95.0,\n   'text': ' Same, baby.',\n   'tokens': [50715, 10635, 11, 3186, 13, 50765],\n   'temperature': 0.0,\n   'avg_logprob': -0.22382801137071975,\n   'compression_ratio': 1.4963768115942029,\n   'no_speech_prob': 0.009605610743165016},\n  {'id': 37,\n   'seek': 8700,\n   'start': 95.0,\n   'end': 97.0,\n   'text': ' Hey.',\n   'tokens': [50765, 1911, 13, 50865],\n   'temperature': 0.0,\n   'avg_logprob': -0.22382801137071975,\n   'compression_ratio': 1.4963768115942029,\n   'no_speech_prob': 0.009605610743165016},\n  {'id': 38,\n   'seek': 8700,\n   'start': 97.0,\n   'end': 100.0,\n   'text': ' 555, contact departure, Mokai got it.',\n   'tokens': [50865,\n    12330,\n    20,\n    11,\n    3385,\n    25866,\n    11,\n    376,\n    453,\n    1301,\n    658,\n    309,\n    13,\n    51015],\n   'temperature': 0.0,\n   'avg_logprob': -0.22382801137071975,\n   'compression_ratio': 1.4963768115942029,\n   'no_speech_prob': 0.009605610743165016},\n  {'id': 39,\n   'seek': 8700,\n   'start': 100.0,\n   'end': 103.0,\n   'text': ' And what is it, do you know?',\n   'tokens': [51015, 400, 437, 307, 309, 11, 360, 291, 458, 30, 51165],\n   'temperature': 0.0,\n   'avg_logprob': -0.22382801137071975,\n   'compression_ratio': 1.4963768115942029,\n   'no_speech_prob': 0.009605610743165016},\n  {'id': 40,\n   'seek': 8700,\n   'start': 103.0,\n   'end': 107.0,\n   'text': \" No, I really don't know. It looks like a really big rat, but it might be some male.\",\n   'tokens': [51165,\n    883,\n    11,\n    286,\n    534,\n    500,\n    380,\n    458,\n    13,\n    467,\n    1542,\n    411,\n    257,\n    534,\n    955,\n    5937,\n    11,\n    457,\n    309,\n    1062,\n    312,\n    512,\n    7133,\n    13,\n    51365],\n   'temperature': 0.0,\n   'avg_logprob': -0.22382801137071975,\n   'compression_ratio': 1.4963768115942029,\n   'no_speech_prob': 0.009605610743165016},\n  {'id': 41,\n   'seek': 8700,\n   'start': 107.0,\n   'end': 109.0,\n   'text': \" That's a New York rat.\",\n   'tokens': [51365, 663, 311, 257, 1873, 3609, 5937, 13, 51465],\n   'temperature': 0.0,\n   'avg_logprob': -0.22382801137071975,\n   'compression_ratio': 1.4963768115942029,\n   'no_speech_prob': 0.009605610743165016},\n  {'id': 42,\n   'seek': 8700,\n   'start': 109.0,\n   'end': 110.0,\n   'text': \" Well, that's for sure.\",\n   'tokens': [51465, 1042, 11, 300, 311, 337, 988, 13, 51515],\n   'temperature': 0.0,\n   'avg_logprob': -0.22382801137071975,\n   'compression_ratio': 1.4963768115942029,\n   'no_speech_prob': 0.009605610743165016},\n  {'id': 43,\n   'seek': 8700,\n   'start': 110.0,\n   'end': 112.0,\n   'text': ' First class meal.',\n   'tokens': [51515, 2386, 1508, 6791, 13, 51615],\n   'temperature': 0.0,\n   'avg_logprob': -0.22382801137071975,\n   'compression_ratio': 1.4963768115942029,\n   'no_speech_prob': 0.009605610743165016},\n  {'id': 44,\n   'seek': 8700,\n   'start': 112.0,\n   'end': 113.0,\n   'text': ' Call catering.',\n   'tokens': [51615, 7807, 21557, 278, 13, 51665],\n   'temperature': 0.0,\n   'avg_logprob': -0.22382801137071975,\n   'compression_ratio': 1.4963768115942029,\n   'no_speech_prob': 0.009605610743165016},\n  {'id': 45,\n   'seek': 8700,\n   'start': 113.0,\n   'end': 116.0,\n   'text': ' 789, in which direction would you like us to take?',\n   'tokens': [51665,\n    1614,\n    21115,\n    11,\n    294,\n    597,\n    3513,\n    576,\n    291,\n    411,\n    505,\n    281,\n    747,\n    30,\n    51815],\n   'temperature': 0.0,\n   'avg_logprob': -0.22382801137071975,\n   'compression_ratio': 1.4963768115942029,\n   'no_speech_prob': 0.009605610743165016},\n  {'id': 46,\n   'seek': 11600,\n   'start': 116.0,\n   'end': 121.0,\n   'text': \" Oh, you better face the front, sir, because if you're looking at the passengers and trying to fly, they get scared.\",\n   'tokens': [50365,\n    876,\n    11,\n    291,\n    1101,\n    1851,\n    264,\n    1868,\n    11,\n    4735,\n    11,\n    570,\n    498,\n    291,\n    434,\n    1237,\n    412,\n    264,\n    18436,\n    293,\n    1382,\n    281,\n    3603,\n    11,\n    436,\n    483,\n    5338,\n    13,\n    50615],\n   'temperature': 0.0,\n   'avg_logprob': -0.2071252147178479,\n   'compression_ratio': 2.1564245810055866,\n   'no_speech_prob': 0.03060009516775608},\n  {'id': 47,\n   'seek': 11600,\n   'start': 121.0,\n   'end': 122.0,\n   'text': \" That's a good point.\",\n   'tokens': [50615, 663, 311, 257, 665, 935, 13, 50665],\n   'temperature': 0.0,\n   'avg_logprob': -0.2071252147178479,\n   'compression_ratio': 2.1564245810055866,\n   'no_speech_prob': 0.03060009516775608},\n  {'id': 48,\n   'seek': 12200,\n   'start': 122.0,\n   'end': 132.0,\n   'text': ' Cactus 532, H-Het-er, Cactus 532, Kennedy Fair, runway 31L at Kilo Kilo, position and hold, hold at a-flash, traffic departing runway 22R.',\n   'tokens': [50365,\n    383,\n    34775,\n    1025,\n    11440,\n    11,\n    389,\n    12,\n    39,\n    302,\n    12,\n    260,\n    11,\n    383,\n    34775,\n    1025,\n    11440,\n    11,\n    16517,\n    12157,\n    11,\n    26642,\n    10353,\n    43,\n    412,\n    591,\n    10720,\n    591,\n    10720,\n    11,\n    2535,\n    293,\n    1797,\n    11,\n    1797,\n    412,\n    257,\n    12,\n    3423,\n    1299,\n    11,\n    6419,\n    9110,\n    278,\n    26642,\n    5853,\n    49,\n    13,\n    50865],\n   'temperature': 0.0,\n   'avg_logprob': -0.3627760145399306,\n   'compression_ratio': 1.572139303482587,\n   'no_speech_prob': 0.01747911237180233},\n  {'id': 49,\n   'seek': 12200,\n   'start': 132.0,\n   'end': 137.0,\n   'text': ' Okay, position and hold, 31L at Kilo Kilo, Cactus 532.',\n   'tokens': [50865,\n    1033,\n    11,\n    2535,\n    293,\n    1797,\n    11,\n    10353,\n    43,\n    412,\n    591,\n    10720,\n    591,\n    10720,\n    11,\n    383,\n    34775,\n    1025,\n    11440,\n    13,\n    51115],\n   'temperature': 0.0,\n   'avg_logprob': -0.3627760145399306,\n   'compression_ratio': 1.572139303482587,\n   'no_speech_prob': 0.01747911237180233},\n  {'id': 50,\n   'seek': 12200,\n   'start': 137.0,\n   'end': 139.0,\n   'text': ' Oh, dang.',\n   'tokens': [51115, 876, 11, 21892, 13, 51215],\n   'temperature': 0.0,\n   'avg_logprob': -0.3627760145399306,\n   'compression_ratio': 1.572139303482587,\n   'no_speech_prob': 0.01747911237180233},\n  {'id': 51,\n   'seek': 12200,\n   'start': 139.0,\n   'end': 140.0,\n   'text': ' Oh.',\n   'tokens': [51215, 876, 13, 51265],\n   'temperature': 0.0,\n   'avg_logprob': -0.3627760145399306,\n   'compression_ratio': 1.572139303482587,\n   'no_speech_prob': 0.01747911237180233},\n  {'id': 52,\n   'seek': 12200,\n   'start': 140.0,\n   'end': 142.0,\n   'text': \" Oh, button's jammed.\",\n   'tokens': [51265, 876, 11, 2960, 311, 7872, 1912, 13, 51365],\n   'temperature': 0.0,\n   'avg_logprob': -0.3627760145399306,\n   'compression_ratio': 1.572139303482587,\n   'no_speech_prob': 0.01747911237180233},\n  {'id': 53,\n   'seek': 12200,\n   'start': 142.0,\n   'end': 143.0,\n   'text': \" Oh, that's the money.\",\n   'tokens': [51365, 876, 11, 300, 311, 264, 1460, 13, 51415],\n   'temperature': 0.0,\n   'avg_logprob': -0.3627760145399306,\n   'compression_ratio': 1.572139303482587,\n   'no_speech_prob': 0.01747911237180233},\n  {'id': 54,\n   'seek': 12200,\n   'start': 143.0,\n   'end': 145.0,\n   'text': ' Oh, Jesus.',\n   'tokens': [51415, 876, 11, 2705, 13, 51515],\n   'temperature': 0.0,\n   'avg_logprob': -0.3627760145399306,\n   'compression_ratio': 1.572139303482587,\n   'no_speech_prob': 0.01747911237180233},\n  {'id': 55,\n   'seek': 12200,\n   'start': 145.0,\n   'end': 148.0,\n   'text': \" The button's gone, guys.\",\n   'tokens': [51515, 440, 2960, 311, 2780, 11, 1074, 13, 51665],\n   'temperature': 0.0,\n   'avg_logprob': -0.3627760145399306,\n   'compression_ratio': 1.572139303482587,\n   'no_speech_prob': 0.01747911237180233},\n  {'id': 56,\n   'seek': 12200,\n   'start': 148.0,\n   'end': 151.0,\n   'text': ' Copy that, X-Ray Golf Filter.',\n   'tokens': [51665, 25653, 300, 11, 1783, 12, 35737, 30176, 39592, 13, 51815],\n   'temperature': 0.0,\n   'avg_logprob': -0.3627760145399306,\n   'compression_ratio': 1.572139303482587,\n   'no_speech_prob': 0.01747911237180233},\n  {'id': 57,\n   'seek': 15100,\n   'start': 151.0,\n   'end': 155.0,\n   'text': ' 789-48, continue up to flight level 330.',\n   'tokens': [50365,\n    1614,\n    21115,\n    12,\n    13318,\n    11,\n    2354,\n    493,\n    281,\n    7018,\n    1496,\n    45374,\n    13,\n    50565],\n   'temperature': 0.0,\n   'avg_logprob': -0.36802602997908357,\n   'compression_ratio': 1.5153846153846153,\n   'no_speech_prob': 0.006902061868458986},\n  {'id': 58,\n   'seek': 15100,\n   'start': 155.0,\n   'end': 156.0,\n   'text': ' 330.',\n   'tokens': [50565, 45374, 13, 50615],\n   'temperature': 0.0,\n   'avg_logprob': -0.36802602997908357,\n   'compression_ratio': 1.5153846153846153,\n   'no_speech_prob': 0.006902061868458986},\n  {'id': 59,\n   'seek': 15100,\n   'start': 156.0,\n   'end': 161.0,\n   'text': ' New York Tower, hello, this is Eagle Flight 4404, we are the visual, 13L.',\n   'tokens': [50615,\n    1873,\n    3609,\n    17877,\n    11,\n    7751,\n    11,\n    341,\n    307,\n    27926,\n    28954,\n    1017,\n    5254,\n    19,\n    11,\n    321,\n    366,\n    264,\n    5056,\n    11,\n    3705,\n    43,\n    13,\n    50865],\n   'temperature': 0.0,\n   'avg_logprob': -0.36802602997908357,\n   'compression_ratio': 1.5153846153846153,\n   'no_speech_prob': 0.006902061868458986},\n  {'id': 60,\n   'seek': 15100,\n   'start': 161.0,\n   'end': 165.0,\n   'text': ' 4404, again, afternoon, your number one, clear the land on 13L.',\n   'tokens': [50865,\n    1017,\n    5254,\n    19,\n    11,\n    797,\n    11,\n    6499,\n    11,\n    428,\n    1230,\n    472,\n    11,\n    1850,\n    264,\n    2117,\n    322,\n    3705,\n    43,\n    13,\n    51065],\n   'temperature': 0.0,\n   'avg_logprob': -0.36802602997908357,\n   'compression_ratio': 1.5153846153846153,\n   'no_speech_prob': 0.006902061868458986},\n  {'id': 61,\n   'seek': 15100,\n   'start': 165.0,\n   'end': 168.0,\n   'text': ' Clear the land on 13L, Eagle Flight 4404.',\n   'tokens': [51065,\n    14993,\n    264,\n    2117,\n    322,\n    3705,\n    43,\n    11,\n    27926,\n    28954,\n    1017,\n    5254,\n    19,\n    13,\n    51215],\n   'temperature': 0.0,\n   'avg_logprob': -0.36802602997908357,\n   'compression_ratio': 1.5153846153846153,\n   'no_speech_prob': 0.006902061868458986},\n  {'id': 62,\n   'seek': 15100,\n   'start': 168.0,\n   'end': 171.0,\n   'text': ' Position and hold, C-C-R, coming in fourth.',\n   'tokens': [51215,\n    29780,\n    293,\n    1797,\n    11,\n    383,\n    12,\n    34,\n    12,\n    49,\n    11,\n    1348,\n    294,\n    6409,\n    13,\n    51365],\n   'temperature': 0.0,\n   'avg_logprob': -0.36802602997908357,\n   'compression_ratio': 1.5153846153846153,\n   'no_speech_prob': 0.006902061868458986},\n  {'id': 63,\n   'seek': 15100,\n   'start': 171.0,\n   'end': 174.0,\n   'text': \" It's the bottom of a super, look like.\",\n   'tokens': [51365,\n    467,\n    311,\n    264,\n    2767,\n    295,\n    257,\n    1687,\n    11,\n    574,\n    411,\n    13,\n    51515],\n   'temperature': 0.0,\n   'avg_logprob': -0.36802602997908357,\n   'compression_ratio': 1.5153846153846153,\n   'no_speech_prob': 0.006902061868458986},\n  {'id': 64,\n   'seek': 15100,\n   'start': 174.0,\n   'end': 175.0,\n   'text': ' Big.',\n   'tokens': [51515, 5429, 13, 51565],\n   'temperature': 0.0,\n   'avg_logprob': -0.36802602997908357,\n   'compression_ratio': 1.5153846153846153,\n   'no_speech_prob': 0.006902061868458986},\n  {'id': 65,\n   'seek': 15100,\n   'start': 175.0,\n   'end': 176.0,\n   'text': ' Lot of wheels.',\n   'tokens': [51565, 20131, 295, 10046, 13, 51615],\n   'temperature': 0.0,\n   'avg_logprob': -0.36802602997908357,\n   'compression_ratio': 1.5153846153846153,\n   'no_speech_prob': 0.006902061868458986},\n  {'id': 66,\n   'seek': 15100,\n   'start': 176.0,\n   'end': 178.0,\n   'text': ' There you go.',\n   'tokens': [51615, 821, 291, 352, 13, 51715],\n   'temperature': 0.0,\n   'avg_logprob': -0.36802602997908357,\n   'compression_ratio': 1.5153846153846153,\n   'no_speech_prob': 0.006902061868458986},\n  {'id': 67,\n   'seek': 15100,\n   'start': 178.0,\n   'end': 180.0,\n   'text': \" Highway 21P, number two, Vanya, you're a therapist.\",\n   'tokens': [51715,\n    30911,\n    5080,\n    47,\n    11,\n    1230,\n    732,\n    11,\n    691,\n    8791,\n    11,\n    291,\n    434,\n    257,\n    19830,\n    13,\n    51815],\n   'temperature': 0.0,\n   'avg_logprob': -0.36802602997908357,\n   'compression_ratio': 1.5153846153846153,\n   'no_speech_prob': 0.006902061868458986},\n  {'id': 68,\n   'seek': 18100,\n   'start': 181.0,\n   'end': 183.0,\n   'text': ' Sorry, 737, my bad.',\n   'tokens': [50365, 4919, 11, 1614, 12851, 11, 452, 1578, 13, 50465],\n   'temperature': 0.0,\n   'avg_logprob': -0.19079164258476827,\n   'compression_ratio': 1.4878892733564013,\n   'no_speech_prob': 0.005501865409314632},\n  {'id': 69,\n   'seek': 18100,\n   'start': 183.0,\n   'end': 184.0,\n   'text': ' Not a wreck.',\n   'tokens': [50465, 1726, 257, 21478, 13, 50515],\n   'temperature': 0.0,\n   'avg_logprob': -0.19079164258476827,\n   'compression_ratio': 1.4878892733564013,\n   'no_speech_prob': 0.005501865409314632},\n  {'id': 70,\n   'seek': 18100,\n   'start': 184.0,\n   'end': 187.0,\n   'text': \" I'm used to you guys flying airbuses all the time.\",\n   'tokens': [50515,\n    286,\n    478,\n    1143,\n    281,\n    291,\n    1074,\n    7137,\n    1988,\n    65,\n    8355,\n    439,\n    264,\n    565,\n    13,\n    50665],\n   'temperature': 0.0,\n   'avg_logprob': -0.19079164258476827,\n   'compression_ratio': 1.4878892733564013,\n   'no_speech_prob': 0.005501865409314632},\n  {'id': 71,\n   'seek': 18100,\n   'start': 187.0,\n   'end': 189.0,\n   'text': ' Hey, not us.',\n   'tokens': [50665, 1911, 11, 406, 505, 13, 50765],\n   'temperature': 0.0,\n   'avg_logprob': -0.19079164258476827,\n   'compression_ratio': 1.4878892733564013,\n   'no_speech_prob': 0.005501865409314632},\n  {'id': 72,\n   'seek': 18100,\n   'start': 189.0,\n   'end': 192.0,\n   'text': ' Yeah, every now and then, you guys are a 737.',\n   'tokens': [50765,\n    865,\n    11,\n    633,\n    586,\n    293,\n    550,\n    11,\n    291,\n    1074,\n    366,\n    257,\n    1614,\n    12851,\n    13,\n    50915],\n   'temperature': 0.0,\n   'avg_logprob': -0.19079164258476827,\n   'compression_ratio': 1.4878892733564013,\n   'no_speech_prob': 0.005501865409314632},\n  {'id': 73,\n   'seek': 18100,\n   'start': 192.0,\n   'end': 194.0,\n   'text': ' Hey, we fly real airplanes.',\n   'tokens': [50915, 1911, 11, 321, 3603, 957, 32947, 13, 51015],\n   'temperature': 0.0,\n   'avg_logprob': -0.19079164258476827,\n   'compression_ratio': 1.4878892733564013,\n   'no_speech_prob': 0.005501865409314632},\n  {'id': 74,\n   'seek': 18100,\n   'start': 194.0,\n   'end': 196.0,\n   'text': ' That was Delta, say that again, please.',\n   'tokens': [51015, 663, 390, 18183, 11, 584, 300, 797, 11, 1767, 13, 51115],\n   'temperature': 0.0,\n   'avg_logprob': -0.19079164258476827,\n   'compression_ratio': 1.4878892733564013,\n   'no_speech_prob': 0.005501865409314632},\n  {'id': 75,\n   'seek': 18100,\n   'start': 196.0,\n   'end': 200.0,\n   'text': \" Delta, 2991, you said you're 11 out for Palm Beach?\",\n   'tokens': [51115,\n    18183,\n    11,\n    9413,\n    29925,\n    11,\n    291,\n    848,\n    291,\n    434,\n    2975,\n    484,\n    337,\n    32668,\n    14866,\n    30,\n    51315],\n   'temperature': 0.0,\n   'avg_logprob': -0.19079164258476827,\n   'compression_ratio': 1.4878892733564013,\n   'no_speech_prob': 0.005501865409314632},\n  {'id': 76,\n   'seek': 18100,\n   'start': 200.0,\n   'end': 202.0,\n   'text': ' I apologize, was on Lardell.',\n   'tokens': [51315, 286, 12328, 11, 390, 322, 441, 515, 898, 13, 51415],\n   'temperature': 0.0,\n   'avg_logprob': -0.19079164258476827,\n   'compression_ratio': 1.4878892733564013,\n   'no_speech_prob': 0.005501865409314632},\n  {'id': 77,\n   'seek': 18100,\n   'start': 202.0,\n   'end': 205.0,\n   'text': ' Okay, yeah, wrong frequency.',\n   'tokens': [51415, 1033, 11, 1338, 11, 2085, 7893, 13, 51565],\n   'temperature': 0.0,\n   'avg_logprob': -0.19079164258476827,\n   'compression_ratio': 1.4878892733564013,\n   'no_speech_prob': 0.005501865409314632},\n  {'id': 78,\n   'seek': 18100,\n   'start': 205.0,\n   'end': 208.0,\n   'text': ' 2945, we got somebody standing up in the plane.',\n   'tokens': [51565,\n    9413,\n    8465,\n    11,\n    321,\n    658,\n    2618,\n    4877,\n    493,\n    294,\n    264,\n    5720,\n    13,\n    51715],\n   'temperature': 0.0,\n   'avg_logprob': -0.19079164258476827,\n   'compression_ratio': 1.4878892733564013,\n   'no_speech_prob': 0.005501865409314632},\n  {'id': 79,\n   'seek': 18100,\n   'start': 208.0,\n   'end': 210.0,\n   'text': ' Are you going to be able to go in the next, like, 30 seconds?',\n   'tokens': [51715,\n    2014,\n    291,\n    516,\n    281,\n    312,\n    1075,\n    281,\n    352,\n    294,\n    264,\n    958,\n    11,\n    411,\n    11,\n    2217,\n    3949,\n    30,\n    51815],\n   'temperature': 0.0,\n   'avg_logprob': -0.19079164258476827,\n   'compression_ratio': 1.4878892733564013,\n   'no_speech_prob': 0.005501865409314632},\n  {'id': 80,\n   'seek': 21100,\n   'start': 211.0,\n   'end': 213.0,\n   'text': ' 2945, we need to stay on the runway.',\n   'tokens': [50365,\n    9413,\n    8465,\n    11,\n    321,\n    643,\n    281,\n    1754,\n    322,\n    264,\n    26642,\n    13,\n    50465],\n   'temperature': 0.0,\n   'avg_logprob': -0.13888465418960108,\n   'compression_ratio': 1.6026936026936027,\n   'no_speech_prob': 0.016614647582173347},\n  {'id': 81,\n   'seek': 21100,\n   'start': 213.0,\n   'end': 214.0,\n   'text': ' We got somebody in the restroom.',\n   'tokens': [50465, 492, 658, 2618, 294, 264, 41286, 13, 50515],\n   'temperature': 0.0,\n   'avg_logprob': -0.13888465418960108,\n   'compression_ratio': 1.6026936026936027,\n   'no_speech_prob': 0.016614647582173347},\n  {'id': 82,\n   'seek': 21100,\n   'start': 214.0,\n   'end': 215.0,\n   'text': \" We don't know when they're going to come out.\",\n   'tokens': [50515,\n    492,\n    500,\n    380,\n    458,\n    562,\n    436,\n    434,\n    516,\n    281,\n    808,\n    484,\n    13,\n    50565],\n   'temperature': 0.0,\n   'avg_logprob': -0.13888465418960108,\n   'compression_ratio': 1.6026936026936027,\n   'no_speech_prob': 0.016614647582173347},\n  {'id': 83,\n   'seek': 21100,\n   'start': 215.0,\n   'end': 216.0,\n   'text': ' Stand by.',\n   'tokens': [50565, 9133, 538, 13, 50615],\n   'temperature': 0.0,\n   'avg_logprob': -0.13888465418960108,\n   'compression_ratio': 1.6026936026936027,\n   'no_speech_prob': 0.016614647582173347},\n  {'id': 84,\n   'seek': 21100,\n   'start': 216.0,\n   'end': 220.0,\n   'text': ' Red Lake 668, go around, fly runway heading, maintain 1,500.',\n   'tokens': [50615,\n    4477,\n    10582,\n    21126,\n    23,\n    11,\n    352,\n    926,\n    11,\n    3603,\n    26642,\n    9864,\n    11,\n    6909,\n    502,\n    11,\n    7526,\n    13,\n    50815],\n   'temperature': 0.0,\n   'avg_logprob': -0.13888465418960108,\n   'compression_ratio': 1.6026936026936027,\n   'no_speech_prob': 0.016614647582173347},\n  {'id': 85,\n   'seek': 21100,\n   'start': 220.0,\n   'end': 226.0,\n   'text': ' Beaver 179 heavy, no delay, cross 4L, right Bravo, monitor ground 0.9, good night.',\n   'tokens': [50815,\n    879,\n    20655,\n    3282,\n    24,\n    4676,\n    11,\n    572,\n    8577,\n    11,\n    3278,\n    1017,\n    43,\n    11,\n    558,\n    28861,\n    11,\n    6002,\n    2727,\n    1958,\n    13,\n    24,\n    11,\n    665,\n    1818,\n    13,\n    51115],\n   'temperature': 0.0,\n   'avg_logprob': -0.13888465418960108,\n   'compression_ratio': 1.6026936026936027,\n   'no_speech_prob': 0.016614647582173347},\n  {'id': 86,\n   'seek': 21100,\n   'start': 226.0,\n   'end': 230.0,\n   'text': ' Okay, no delay, cross 4L, run on Bravo, 0.9, bye.',\n   'tokens': [51115,\n    1033,\n    11,\n    572,\n    8577,\n    11,\n    3278,\n    1017,\n    43,\n    11,\n    1190,\n    322,\n    28861,\n    11,\n    1958,\n    13,\n    24,\n    11,\n    6543,\n    13,\n    51315],\n   'temperature': 0.0,\n   'avg_logprob': -0.13888465418960108,\n   'compression_ratio': 1.6026936026936027,\n   'no_speech_prob': 0.016614647582173347},\n  {'id': 87,\n   'seek': 21100,\n   'start': 230.0,\n   'end': 232.0,\n   'text': ' You going back out tonight?',\n   'tokens': [51315, 509, 516, 646, 484, 4440, 30, 51415],\n   'temperature': 0.0,\n   'avg_logprob': -0.13888465418960108,\n   'compression_ratio': 1.6026936026936027,\n   'no_speech_prob': 0.016614647582173347},\n  {'id': 88,\n   'seek': 21100,\n   'start': 232.0,\n   'end': 234.0,\n   'text': \" Let's see.\",\n   'tokens': [51415, 961, 311, 536, 13, 51515],\n   'temperature': 0.0,\n   'avg_logprob': -0.13888465418960108,\n   'compression_ratio': 1.6026936026936027,\n   'no_speech_prob': 0.016614647582173347},\n  {'id': 89,\n   'seek': 21100,\n   'start': 234.0,\n   'end': 237.0,\n   'text': \" Well, if you do, we'll give you a free get-out jail-free pass.\",\n   'tokens': [51515,\n    1042,\n    11,\n    498,\n    291,\n    360,\n    11,\n    321,\n    603,\n    976,\n    291,\n    257,\n    1737,\n    483,\n    12,\n    346,\n    10511,\n    12,\n    10792,\n    1320,\n    13,\n    51665],\n   'temperature': 0.0,\n   'avg_logprob': -0.13888465418960108,\n   'compression_ratio': 1.6026936026936027,\n   'no_speech_prob': 0.016614647582173347},\n  {'id': 90,\n   'seek': 21100,\n   'start': 237.0,\n   'end': 239.0,\n   'text': \" We'll send you straight to the front.\",\n   'tokens': [51665, 492, 603, 2845, 291, 2997, 281, 264, 1868, 13, 51765],\n   'temperature': 0.0,\n   'avg_logprob': -0.13888465418960108,\n   'compression_ratio': 1.6026936026936027,\n   'no_speech_prob': 0.016614647582173347},\n  {'id': 91,\n   'seek': 21100,\n   'start': 239.0,\n   'end': 240.0,\n   'text': \" Oh, that's fine.\",\n   'tokens': [51765, 876, 11, 300, 311, 2489, 13, 51815],\n   'temperature': 0.0,\n   'avg_logprob': -0.13888465418960108,\n   'compression_ratio': 1.6026936026936027,\n   'no_speech_prob': 0.016614647582173347},\n  {'id': 92,\n   'seek': 24000,\n   'start': 240.0,\n   'end': 245.0,\n   'text': ' And I need your credit card and expiration date, along with that.',\n   'tokens': [50365,\n    400,\n    286,\n    643,\n    428,\n    5397,\n    2920,\n    293,\n    39657,\n    4002,\n    11,\n    2051,\n    365,\n    300,\n    13,\n    50615],\n   'temperature': 1.0,\n   'avg_logprob': -1.2738129636074633,\n   'compression_ratio': 1.3010752688172043,\n   'no_speech_prob': 0.001733352430164814},\n  {'id': 93,\n   'seek': 24000,\n   'start': 245.0,\n   'end': 246.0,\n   'text': ' Okay.',\n   'tokens': [50615, 1033, 13, 50665],\n   'temperature': 1.0,\n   'avg_logprob': -1.2738129636074633,\n   'compression_ratio': 1.3010752688172043,\n   'no_speech_prob': 0.001733352430164814},\n  {'id': 94,\n   'seek': 24000,\n   'start': 246.0,\n   'end': 250.0,\n   'text': ' Yeah, sure.',\n   'tokens': [50665, 865, 11, 988, 13, 50865],\n   'temperature': 1.0,\n   'avg_logprob': -1.2738129636074633,\n   'compression_ratio': 1.3010752688172043,\n   'no_speech_prob': 0.001733352430164814},\n  {'id': 95,\n   'seek': 24000,\n   'start': 250.0,\n   'end': 256.0,\n   'text': ' Just 7-8-4-4, do you read?',\n   'tokens': [50865,\n    1449,\n    1614,\n    12,\n    23,\n    12,\n    19,\n    12,\n    19,\n    11,\n    360,\n    291,\n    1401,\n    30,\n    51165],\n   'temperature': 1.0,\n   'avg_logprob': -1.2738129636074633,\n   'compression_ratio': 1.3010752688172043,\n   'no_speech_prob': 0.001733352430164814},\n  {'id': 96,\n   'seek': 24000,\n   'start': 256.0,\n   'end': 265.0,\n   'text': \" You stupid , we're,phase 77-79, clear to 11,000.\",\n   'tokens': [51165,\n    509,\n    6631,\n    3182,\n    321,\n    434,\n    11,\n    43331,\n    25546,\n    12,\n    32042,\n    11,\n    1850,\n    281,\n    2975,\n    11,\n    1360,\n    13,\n    51615],\n   'temperature': 1.0,\n   'avg_logprob': -1.2738129636074633,\n   'compression_ratio': 1.3010752688172043,\n   'no_speech_prob': 0.001733352430164814},\n  {'id': 97,\n   'seek': 24000,\n   'start': 265.0,\n   'end': 266.0,\n   'text': ' Okay, what the hell is going on here?',\n   'tokens': [51615, 1033, 11, 437, 264, 4921, 307, 516, 322, 510, 30, 51665],\n   'temperature': 1.0,\n   'avg_logprob': -1.2738129636074633,\n   'compression_ratio': 1.3010752688172043,\n   'no_speech_prob': 0.001733352430164814},\n  {'id': 98,\n   'seek': 24000,\n   'start': 266.0,\n   'end': 267.0,\n   'text': ' God damn it.',\n   'tokens': [51665, 1265, 8151, 309, 13, 51715],\n   'temperature': 1.0,\n   'avg_logprob': -1.2738129636074633,\n   'compression_ratio': 1.3010752688172043,\n   'no_speech_prob': 0.001733352430164814},\n  {'id': 99,\n   'seek': 24000,\n   'start': 267.0,\n   'end': 268.0,\n   'text': ' Guan meow?',\n   'tokens': [51715, 41431, 45132, 30, 51765],\n   'temperature': 1.0,\n   'avg_logprob': -1.2738129636074633,\n   'compression_ratio': 1.3010752688172043,\n   'no_speech_prob': 0.001733352430164814},\n  {'id': 100,\n   'seek': 24000,\n   'start': 268.0,\n   'end': 269.0,\n   'text': ' We cleared to 1,000.',\n   'tokens': [51765, 492, 19725, 281, 502, 11, 1360, 13, 51815],\n   'temperature': 1.0,\n   'avg_logprob': -1.2738129636074633,\n   'compression_ratio': 1.3010752688172043,\n   'no_speech_prob': 0.001733352430164814},\n  {'id': 101,\n   'seek': 26900,\n   'start': 269.0,\n   'end': 271.0,\n   'text': ' 7-7-79, clicker 11-1000.',\n   'tokens': [50365,\n    1614,\n    12,\n    22,\n    12,\n    32042,\n    11,\n    2052,\n    260,\n    2975,\n    12,\n    21199,\n    13,\n    50465],\n   'temperature': 0.0,\n   'avg_logprob': -0.3325509092861548,\n   'compression_ratio': 1.5726872246696035,\n   'no_speech_prob': 0.19792474806308746},\n  {'id': 102,\n   'seek': 26900,\n   'start': 275.9,\n   'end': 277.96,\n   'text': ' And departure, Chas 7844, do you read?',\n   'tokens': [50710,\n    400,\n    25866,\n    11,\n    761,\n    296,\n    26369,\n    13912,\n    11,\n    360,\n    291,\n    1401,\n    30,\n    50813],\n   'temperature': 0.0,\n   'avg_logprob': -0.3325509092861548,\n   'compression_ratio': 1.5726872246696035,\n   'no_speech_prob': 0.19792474806308746},\n  {'id': 103,\n   'seek': 26900,\n   'start': 279.48,\n   'end': 282.26,\n   'text': ' Chas 7844, 123-321, how do you read me?',\n   'tokens': [50889,\n    761,\n    296,\n    26369,\n    13912,\n    11,\n    34466,\n    12,\n    18,\n    4436,\n    11,\n    577,\n    360,\n    291,\n    1401,\n    385,\n    30,\n    51028],\n   'temperature': 0.0,\n   'avg_logprob': -0.3325509092861548,\n   'compression_ratio': 1.5726872246696035,\n   'no_speech_prob': 0.19792474806308746},\n  {'id': 104,\n   'seek': 26900,\n   'start': 283.36,\n   'end': 286.34,\n   'text': \" We've got you 3-by-3, but there's an open mic on the frequency.\",\n   'tokens': [51083,\n    492,\n    600,\n    658,\n    291,\n    805,\n    12,\n    2322,\n    12,\n    18,\n    11,\n    457,\n    456,\n    311,\n    364,\n    1269,\n    3123,\n    322,\n    264,\n    7893,\n    13,\n    51232],\n   'temperature': 0.0,\n   'avg_logprob': -0.3325509092861548,\n   'compression_ratio': 1.5726872246696035,\n   'no_speech_prob': 0.19792474806308746},\n  {'id': 105,\n   'seek': 26900,\n   'start': 287.22,\n   'end': 290.94,\n   'text': ' 3-by-63-23 on the breezy point, over to departure, happy turkey day.',\n   'tokens': [51276,\n    805,\n    12,\n    2322,\n    12,\n    29491,\n    12,\n    9356,\n    322,\n    264,\n    20082,\n    1229,\n    935,\n    11,\n    670,\n    281,\n    25866,\n    11,\n    2055,\n    21551,\n    786,\n    13,\n    51462],\n   'temperature': 0.0,\n   'avg_logprob': -0.3325509092861548,\n   'compression_ratio': 1.5726872246696035,\n   'no_speech_prob': 0.19792474806308746},\n  {'id': 106,\n   'seek': 26900,\n   'start': 291.44,\n   'end': 292.16,\n   'text': ' You do the same, sir.',\n   'tokens': [51487, 509, 360, 264, 912, 11, 4735, 13, 51523],\n   'temperature': 0.0,\n   'avg_logprob': -0.3325509092861548,\n   'compression_ratio': 1.5726872246696035,\n   'no_speech_prob': 0.19792474806308746},\n  {'id': 107,\n   'seek': 26900,\n   'start': 292.88,\n   'end': 294.82,\n   'text': ' Breezy point, climb over departure, gobble, gobble, gobble.',\n   'tokens': [51559,\n    49188,\n    1229,\n    935,\n    11,\n    10724,\n    670,\n    25866,\n    11,\n    352,\n    10387,\n    11,\n    352,\n    10387,\n    11,\n    352,\n    10387,\n    13,\n    51656],\n   'temperature': 0.0,\n   'avg_logprob': -0.3325509092861548,\n   'compression_ratio': 1.5726872246696035,\n   'no_speech_prob': 0.19792474806308746},\n  {'id': 108,\n   'seek': 26900,\n   'start': 295.32,\n   'end': 296.84,\n   'text': ' Hope you have a good holiday, see you.',\n   'tokens': [51681, 6483, 291, 362, 257, 665, 9960, 11, 536, 291, 13, 51757],\n   'temperature': 0.0,\n   'avg_logprob': -0.3325509092861548,\n   'compression_ratio': 1.5726872246696035,\n   'no_speech_prob': 0.19792474806308746},\n  {'id': 109,\n   'seek': 29684,\n   'start': 296.84,\n   'end': 299.11999999999995,\n   'text': \" Departure, we'll see you all next time.\",\n   'tokens': [50365,\n    4056,\n    446,\n    540,\n    11,\n    321,\n    603,\n    536,\n    291,\n    439,\n    958,\n    565,\n    13,\n    50479],\n   'temperature': 0.0,\n   'avg_logprob': -0.21529094592944995,\n   'compression_ratio': 1.5970695970695972,\n   'no_speech_prob': 0.0018601245246827602},\n  {'id': 110,\n   'seek': 29684,\n   'start': 300.0,\n   'end': 306.41999999999996,\n   'text': ' Hello, departure, it is Chautauqua 7767 bounding with excitement out of 2900 for 5000 runway heading.',\n   'tokens': [50523,\n    2425,\n    11,\n    25866,\n    11,\n    309,\n    307,\n    761,\n    1375,\n    1459,\n    34787,\n    25546,\n    22452,\n    5472,\n    278,\n    365,\n    14755,\n    484,\n    295,\n    9413,\n    628,\n    337,\n    23777,\n    26642,\n    9864,\n    13,\n    50844],\n   'temperature': 0.0,\n   'avg_logprob': -0.21529094592944995,\n   'compression_ratio': 1.5970695970695972,\n   'no_speech_prob': 0.0018601245246827602},\n  {'id': 111,\n   'seek': 29684,\n   'start': 306.82,\n   'end': 308.78,\n   'text': ' 14,000, 7767.',\n   'tokens': [50864, 3499, 11, 1360, 11, 25546, 22452, 13, 50962],\n   'temperature': 0.0,\n   'avg_logprob': -0.21529094592944995,\n   'compression_ratio': 1.5970695970695972,\n   'no_speech_prob': 0.0018601245246827602},\n  {'id': 112,\n   'seek': 29684,\n   'start': 309.12,\n   'end': 310.96,\n   'text': ' 1985, have a blast.',\n   'tokens': [50979, 28962, 11, 362, 257, 12035, 13, 51071],\n   'temperature': 0.0,\n   'avg_logprob': -0.21529094592944995,\n   'compression_ratio': 1.5970695970695972,\n   'no_speech_prob': 0.0018601245246827602},\n  {'id': 113,\n   'seek': 29684,\n   'start': 311.71999999999997,\n   'end': 313.17999999999995,\n   'text': ' Chautauqua, Chautauqua 7767, where are you going?',\n   'tokens': [51109,\n    761,\n    1375,\n    1459,\n    34787,\n    11,\n    761,\n    1375,\n    1459,\n    34787,\n    25546,\n    22452,\n    11,\n    689,\n    366,\n    291,\n    516,\n    30,\n    51182],\n   'temperature': 0.0,\n   'avg_logprob': -0.21529094592944995,\n   'compression_ratio': 1.5970695970695972,\n   'no_speech_prob': 0.0018601245246827602},\n  {'id': 114,\n   'seek': 29684,\n   'start': 313.52,\n   'end': 314.21999999999997,\n   'text': ' Charlie 9.',\n   'tokens': [51199, 13754, 1722, 13, 51234],\n   'temperature': 0.0,\n   'avg_logprob': -0.21529094592944995,\n   'compression_ratio': 1.5970695970695972,\n   'no_speech_prob': 0.0018601245246827602},\n  {'id': 115,\n   'seek': 29684,\n   'start': 315.15999999999997,\n   'end': 316.14,\n   'text': \" Hey, it's back there.\",\n   'tokens': [51281, 1911, 11, 309, 311, 646, 456, 13, 51330],\n   'temperature': 0.0,\n   'avg_logprob': -0.21529094592944995,\n   'compression_ratio': 1.5970695970695972,\n   'no_speech_prob': 0.0018601245246827602},\n  {'id': 116,\n   'seek': 29684,\n   'start': 317.21999999999997,\n   'end': 319.5,\n   'text': ' You need to make a 180, you passed it all.',\n   'tokens': [51384,\n    509,\n    643,\n    281,\n    652,\n    257,\n    11971,\n    11,\n    291,\n    4678,\n    309,\n    439,\n    13,\n    51498],\n   'temperature': 0.0,\n   'avg_logprob': -0.21529094592944995,\n   'compression_ratio': 1.5970695970695972,\n   'no_speech_prob': 0.0018601245246827602},\n  {'id': 117,\n   'seek': 29684,\n   'start': 319.85999999999996,\n   'end': 320.59999999999997,\n   'text': ' What are they moving?',\n   'tokens': [51516, 708, 366, 436, 2684, 30, 51553],\n   'temperature': 0.0,\n   'avg_logprob': -0.21529094592944995,\n   'compression_ratio': 1.5970695970695972,\n   'no_speech_prob': 0.0018601245246827602},\n  {'id': 118,\n   'seek': 29684,\n   'start': 321.34,\n   'end': 325.05999999999995,\n   'text': \" They didn't, they, uh, Chautauqua used to park up on the north side there,\",\n   'tokens': [51590,\n    814,\n    994,\n    380,\n    11,\n    436,\n    11,\n    2232,\n    11,\n    761,\n    1375,\n    1459,\n    34787,\n    1143,\n    281,\n    3884,\n    493,\n    322,\n    264,\n    6830,\n    1252,\n    456,\n    11,\n    51776],\n   'temperature': 0.0,\n   'avg_logprob': -0.21529094592944995,\n   'compression_ratio': 1.5970695970695972,\n   'no_speech_prob': 0.0018601245246827602},\n  {'id': 119,\n   'seek': 29684,\n   'start': 325.05999999999995,\n   'end': 326.71999999999997,\n   'text': ' but then now they all park down here.',\n   'tokens': [51776, 457, 550, 586, 436, 439, 3884, 760, 510, 13, 51859],\n   'temperature': 0.0,\n   'avg_logprob': -0.21529094592944995,\n   'compression_ratio': 1.5970695970695972,\n   'no_speech_prob': 0.0018601245246827602},\n  {'id': 120,\n   'seek': 32684,\n   'start': 326.84,\n   'end': 328.38,\n   'text': ' Uh, just, uh, depending on the mic.',\n   'tokens': [50365,\n    4019,\n    11,\n    445,\n    11,\n    2232,\n    11,\n    5413,\n    322,\n    264,\n    3123,\n    13,\n    50442],\n   'temperature': 0.0,\n   'avg_logprob': -0.4179473305768508,\n   'compression_ratio': 1.7083333333333333,\n   'no_speech_prob': 0.004955592565238476},\n  {'id': 121,\n   'seek': 32684,\n   'start': 328.76,\n   'end': 330.59999999999997,\n   'text': ' Yeah, 100 tough box, this is a bound landing, sir.',\n   'tokens': [50461,\n    865,\n    11,\n    2319,\n    4930,\n    2424,\n    11,\n    341,\n    307,\n    257,\n    5472,\n    11202,\n    11,\n    4735,\n    13,\n    50553],\n   'temperature': 0.0,\n   'avg_logprob': -0.4179473305768508,\n   'compression_ratio': 1.7083333333333333,\n   'no_speech_prob': 0.004955592565238476},\n  {'id': 122,\n   'seek': 32684,\n   'start': 330.59999999999997,\n   'end': 333.02,\n   'text': ' Do you want us to go, uh, Baisley, triple hangars?',\n   'tokens': [50553,\n    1144,\n    291,\n    528,\n    505,\n    281,\n    352,\n    11,\n    2232,\n    11,\n    363,\n    1527,\n    3420,\n    11,\n    15508,\n    3967,\n    685,\n    30,\n    50674],\n   'temperature': 0.0,\n   'avg_logprob': -0.4179473305768508,\n   'compression_ratio': 1.7083333333333333,\n   'no_speech_prob': 0.004955592565238476},\n  {'id': 123,\n   'seek': 32684,\n   'start': 334.28,\n   'end': 335.41999999999996,\n   'text': ' 100 tough box truck.',\n   'tokens': [50737, 2319, 4930, 2424, 5898, 13, 50794],\n   'temperature': 0.0,\n   'avg_logprob': -0.4179473305768508,\n   'compression_ratio': 1.7083333333333333,\n   'no_speech_prob': 0.004955592565238476},\n  {'id': 124,\n   'seek': 32684,\n   'start': 335.82,\n   'end': 336.32,\n   'text': ' Okay.',\n   'tokens': [50814, 1033, 13, 50839],\n   'temperature': 0.0,\n   'avg_logprob': -0.4179473305768508,\n   'compression_ratio': 1.7083333333333333,\n   'no_speech_prob': 0.004955592565238476},\n  {'id': 125,\n   'seek': 32684,\n   'start': 336.59999999999997,\n   'end': 339.9,\n   'text': ' Received via the Baisley route, and pulse shuttle 13 left for triple hangars.',\n   'tokens': [50853,\n    41962,\n    3194,\n    5766,\n    264,\n    363,\n    1527,\n    3420,\n    7955,\n    11,\n    293,\n    17709,\n    26728,\n    3705,\n    1411,\n    337,\n    15508,\n    3967,\n    685,\n    13,\n    51018],\n   'temperature': 0.0,\n   'avg_logprob': -0.4179473305768508,\n   'compression_ratio': 1.7083333333333333,\n   'no_speech_prob': 0.004955592565238476},\n  {'id': 126,\n   'seek': 32684,\n   'start': 339.9,\n   'end': 341.94,\n   'text': ' Traffic behind you and down the land on 13 left.',\n   'tokens': [51018,\n    46950,\n    2261,\n    291,\n    293,\n    760,\n    264,\n    2117,\n    322,\n    3705,\n    1411,\n    13,\n    51120],\n   'temperature': 0.0,\n   'avg_logprob': -0.4179473305768508,\n   'compression_ratio': 1.7083333333333333,\n   'no_speech_prob': 0.004955592565238476},\n  {'id': 127,\n   'seek': 32684,\n   'start': 342.64,\n   'end': 345.44,\n   'text': \" All right, Roger, we could come in and appreciate the parallels if that's easier for you.\",\n   'tokens': [51155,\n    1057,\n    558,\n    11,\n    17666,\n    11,\n    321,\n    727,\n    808,\n    294,\n    293,\n    4449,\n    264,\n    44223,\n    498,\n    300,\n    311,\n    3571,\n    337,\n    291,\n    13,\n    51295],\n   'temperature': 0.0,\n   'avg_logprob': -0.4179473305768508,\n   'compression_ratio': 1.7083333333333333,\n   'no_speech_prob': 0.004955592565238476},\n  {'id': 128,\n   'seek': 32684,\n   'start': 346.23999999999995,\n   'end': 347.9,\n   'text': ' If it was easier, I would have given it to you.',\n   'tokens': [51335,\n    759,\n    309,\n    390,\n    3571,\n    11,\n    286,\n    576,\n    362,\n    2212,\n    309,\n    281,\n    291,\n    13,\n    51418],\n   'temperature': 0.0,\n   'avg_logprob': -0.4179473305768508,\n   'compression_ratio': 1.7083333333333333,\n   'no_speech_prob': 0.004955592565238476},\n  {'id': 129,\n   'seek': 32684,\n   'start': 348.59999999999997,\n   'end': 350.17999999999995,\n   'text': \" All right, we're just trying to figure out what you want.\",\n   'tokens': [51453,\n    1057,\n    558,\n    11,\n    321,\n    434,\n    445,\n    1382,\n    281,\n    2573,\n    484,\n    437,\n    291,\n    528,\n    13,\n    51532],\n   'temperature': 0.0,\n   'avg_logprob': -0.4179473305768508,\n   'compression_ratio': 1.7083333333333333,\n   'no_speech_prob': 0.004955592565238476},\n  {'id': 130,\n   'seek': 32684,\n   'start': 351.71999999999997,\n   'end': 353.0,\n   'text': ' Actually, you know what, I made a mistake.',\n   'tokens': [51609,\n    5135,\n    11,\n    291,\n    458,\n    437,\n    11,\n    286,\n    1027,\n    257,\n    6146,\n    13,\n    51673],\n   'temperature': 0.0,\n   'avg_logprob': -0.4179473305768508,\n   'compression_ratio': 1.7083333333333333,\n   'no_speech_prob': 0.004955592565238476},\n  {'id': 131,\n   'seek': 32684,\n   'start': 353.29999999999995,\n   'end': 354.65999999999997,\n   'text': ' Your sequence is on Juliet.',\n   'tokens': [51688, 2260, 8310, 307, 322, 33532, 13, 51756],\n   'temperature': 0.0,\n   'avg_logprob': -0.4179473305768508,\n   'compression_ratio': 1.7083333333333333,\n   'no_speech_prob': 0.004955592565238476},\n  {'id': 132,\n   'seek': 32684,\n   'start': 354.73999999999995,\n   'end': 356.21999999999997,\n   'text': \" It's a Challenger, right on Juliet.\",\n   'tokens': [51760,\n    467,\n    311,\n    257,\n    14398,\n    10210,\n    11,\n    558,\n    322,\n    33532,\n    13,\n    51834],\n   'temperature': 0.0,\n   'avg_logprob': -0.4179473305768508,\n   'compression_ratio': 1.7083333333333333,\n   'no_speech_prob': 0.004955592565238476},\n  {'id': 133,\n   'seek': 32684,\n   'start': 356.21999999999997,\n   'end': 356.82,\n   'text': ' Just get behind him.',\n   'tokens': [51834, 1449, 483, 2261, 796, 13, 51864],\n   'temperature': 0.0,\n   'avg_logprob': -0.4179473305768508,\n   'compression_ratio': 1.7083333333333333,\n   'no_speech_prob': 0.004955592565238476},\n  {'id': 134,\n   'seek': 35684,\n   'start': 356.84,\n   'end': 362.08,\n   'text': ' Get behind him in, uh, 23, uh, 9, and that Airbus will still follow you from the left on Zulu.',\n   'tokens': [50365,\n    3240,\n    2261,\n    796,\n    294,\n    11,\n    2232,\n    11,\n    6673,\n    11,\n    2232,\n    11,\n    1722,\n    11,\n    293,\n    300,\n    5774,\n    21441,\n    486,\n    920,\n    1524,\n    291,\n    490,\n    264,\n    1411,\n    322,\n    1176,\n    12845,\n    13,\n    50627],\n   'temperature': 0.0,\n   'avg_logprob': -0.1805580503800336,\n   'compression_ratio': 1.3269230769230769,\n   'no_speech_prob': 0.000964098668191582},\n  {'id': 135,\n   'seek': 35684,\n   'start': 362.7,\n   'end': 366.53999999999996,\n   'text': \" Yeah, if you don't tell us to give way, uh, technically we can go ahead and hit him, right?\",\n   'tokens': [50658,\n    865,\n    11,\n    498,\n    291,\n    500,\n    380,\n    980,\n    505,\n    281,\n    976,\n    636,\n    11,\n    2232,\n    11,\n    12120,\n    321,\n    393,\n    352,\n    2286,\n    293,\n    2045,\n    796,\n    11,\n    558,\n    30,\n    50850],\n   'temperature': 0.0,\n   'avg_logprob': -0.1805580503800336,\n   'compression_ratio': 1.3269230769230769,\n   'no_speech_prob': 0.000964098668191582},\n  {'id': 136,\n   'seek': 35684,\n   'start': 367.26,\n   'end': 367.56,\n   'text': ' Right.',\n   'tokens': [50886, 1779, 13, 50901],\n   'temperature': 0.0,\n   'avg_logprob': -0.1805580503800336,\n   'compression_ratio': 1.3269230769230769,\n   'no_speech_prob': 0.000964098668191582},\n  {'id': 137,\n   'seek': 35684,\n   'start': 368.14,\n   'end': 368.76,\n   'text': ' That does so.',\n   'tokens': [50930, 663, 775, 370, 13, 50961],\n   'temperature': 0.0,\n   'avg_logprob': -0.1805580503800336,\n   'compression_ratio': 1.3269230769230769,\n   'no_speech_prob': 0.000964098668191582}],\n 'language': 'en'}"
     },
     "execution_count": 9,
     "metadata": {},
     "output_type": "execute_result"
    }
   ],
   "source": [
    "result"
   ],
   "metadata": {
    "collapsed": false,
    "ExecuteTime": {
     "end_time": "2024-03-12T15:47:04.999453Z",
     "start_time": "2024-03-12T15:47:04.975623Z"
    }
   },
   "id": "57828d786f111a4c",
   "execution_count": 9
  },
  {
   "cell_type": "code",
   "outputs": [
    {
     "data": {
      "text/plain": "\" What taxiway the letter? Oh, negative sir, we're on 22R holding short of Fox, sir. What taxiway do you enter the ramp? Okay, sir, we just exit the runway and we're holding short of Fox, short on 22R. You're not listening to what I'm asking you. What taxiway do you enter the ramp? Not on the ramp yet, sir. What taxiway do you enter the ramp? Tell me. What letter? Okay, we can enter at Kilo for 52R. That's what I need to get out of you. We talked like six times. Straight ahead and hold short of hotel, sir. Straight ahead and hold short of hotel, sir. Follow the Asiana and next time I would like you to be polite with me. Okay, but if I gotta talk to you six times, I got other people I gotta talk to. And you don't understand what I'm saying. What I'm saying, polite with me, alright? You want polite with me? I'll make a report. Go ahead. 29, we're trying to clear a Wabbit on the runway. Roger, we're holding short of top of the 29. Crazy Wabbit. You know, I've seen stranger things, so it might have happened. And you know, we just asked Continental, who was the last airplane to land, if he saw it and he did not. So it might have dissipated on its own accord. That was 599, runway 29 cleared for takeoff. And that was 599, cleared for takeoff, runway 29. Thanks, Hill. I feel like an idiot for maintaining the visual with the boat. You're still clear to land, 3 o'clock. Affirmative, C-Miles, 4247. Affirmative that I'm an idiot or that you're gonna maintain the visual? No comment. Maintain the visual, C-Miles, 4247. Yeah, my wife would have jumped on the first one, thanks. Eagle 5, 818, contact departure, I've got all these down. Same, baby. Hey. 555, contact departure, Mokai got it. And what is it, do you know? No, I really don't know. It looks like a really big rat, but it might be some male. That's a New York rat. Well, that's for sure. First class meal. Call catering. 789, in which direction would you like us to take? Oh, you better face the front, sir, because if you're looking at the passengers and trying to fly, they get scared. That's a good point. Cactus 532, H-Het-er, Cactus 532, Kennedy Fair, runway 31L at Kilo Kilo, position and hold, hold at a-flash, traffic departing runway 22R. Okay, position and hold, 31L at Kilo Kilo, Cactus 532. Oh, dang. Oh. Oh, button's jammed. Oh, that's the money. Oh, Jesus. The button's gone, guys. Copy that, X-Ray Golf Filter. 789-48, continue up to flight level 330. 330. New York Tower, hello, this is Eagle Flight 4404, we are the visual, 13L. 4404, again, afternoon, your number one, clear the land on 13L. Clear the land on 13L, Eagle Flight 4404. Position and hold, C-C-R, coming in fourth. It's the bottom of a super, look like. Big. Lot of wheels. There you go. Highway 21P, number two, Vanya, you're a therapist. Sorry, 737, my bad. Not a wreck. I'm used to you guys flying airbuses all the time. Hey, not us. Yeah, every now and then, you guys are a 737. Hey, we fly real airplanes. That was Delta, say that again, please. Delta, 2991, you said you're 11 out for Palm Beach? I apologize, was on Lardell. Okay, yeah, wrong frequency. 2945, we got somebody standing up in the plane. Are you going to be able to go in the next, like, 30 seconds? 2945, we need to stay on the runway. We got somebody in the restroom. We don't know when they're going to come out. Stand by. Red Lake 668, go around, fly runway heading, maintain 1,500. Beaver 179 heavy, no delay, cross 4L, right Bravo, monitor ground 0.9, good night. Okay, no delay, cross 4L, run on Bravo, 0.9, bye. You going back out tonight? Let's see. Well, if you do, we'll give you a free get-out jail-free pass. We'll send you straight to the front. Oh, that's fine. And I need your credit card and expiration date, along with that. Okay. Yeah, sure. Just 7-8-4-4, do you read? You stupid , we're,phase 77-79, clear to 11,000. Okay, what the hell is going on here? God damn it. Guan meow? We cleared to 1,000. 7-7-79, clicker 11-1000. And departure, Chas 7844, do you read? Chas 7844, 123-321, how do you read me? We've got you 3-by-3, but there's an open mic on the frequency. 3-by-63-23 on the breezy point, over to departure, happy turkey day. You do the same, sir. Breezy point, climb over departure, gobble, gobble, gobble. Hope you have a good holiday, see you. Departure, we'll see you all next time. Hello, departure, it is Chautauqua 7767 bounding with excitement out of 2900 for 5000 runway heading. 14,000, 7767. 1985, have a blast. Chautauqua, Chautauqua 7767, where are you going? Charlie 9. Hey, it's back there. You need to make a 180, you passed it all. What are they moving? They didn't, they, uh, Chautauqua used to park up on the north side there, but then now they all park down here. Uh, just, uh, depending on the mic. Yeah, 100 tough box, this is a bound landing, sir. Do you want us to go, uh, Baisley, triple hangars? 100 tough box truck. Okay. Received via the Baisley route, and pulse shuttle 13 left for triple hangars. Traffic behind you and down the land on 13 left. All right, Roger, we could come in and appreciate the parallels if that's easier for you. If it was easier, I would have given it to you. All right, we're just trying to figure out what you want. Actually, you know what, I made a mistake. Your sequence is on Juliet. It's a Challenger, right on Juliet. Just get behind him. Get behind him in, uh, 23, uh, 9, and that Airbus will still follow you from the left on Zulu. Yeah, if you don't tell us to give way, uh, technically we can go ahead and hit him, right? Right. That does so.\""
     },
     "execution_count": 10,
     "metadata": {},
     "output_type": "execute_result"
    }
   ],
   "source": [
    "result['text']"
   ],
   "metadata": {
    "collapsed": false,
    "ExecuteTime": {
     "end_time": "2024-03-12T15:47:05.003051Z",
     "start_time": "2024-03-12T15:47:05.000360Z"
    }
   },
   "id": "a8bf2fb34c7c29fd",
   "execution_count": 10
  },
  {
   "cell_type": "markdown",
   "source": [],
   "metadata": {
    "collapsed": false
   },
   "id": "53b06c3f73db59d"
  }
 ],
 "metadata": {
  "kernelspec": {
   "display_name": "Python 3",
   "language": "python",
   "name": "python3"
  },
  "language_info": {
   "codemirror_mode": {
    "name": "ipython",
    "version": 2
   },
   "file_extension": ".py",
   "mimetype": "text/x-python",
   "name": "python",
   "nbconvert_exporter": "python",
   "pygments_lexer": "ipython2",
   "version": "2.7.6"
  }
 },
 "nbformat": 4,
 "nbformat_minor": 5
}
